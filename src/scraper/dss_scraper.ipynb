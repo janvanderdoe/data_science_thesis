{
 "cells": [
  {
   "cell_type": "code",
   "execution_count": 1,
   "metadata": {},
   "outputs": [
    {
     "name": "stderr",
     "output_type": "stream",
     "text": [
      "c:\\Users\\janva\\anaconda3\\Lib\\site-packages\\paramiko\\transport.py:219: CryptographyDeprecationWarning: Blowfish has been deprecated\n",
      "  \"class\": algorithms.Blowfish,\n"
     ]
    }
   ],
   "source": [
    "import requests\n",
    "from bs4 import BeautifulSoup\n",
    "import time\n",
    "import csv\n",
    "from collections import Counter\n",
    "import docker\n",
    "import re"
   ]
  },
  {
   "cell_type": "code",
   "execution_count": 2,
   "metadata": {},
   "outputs": [],
   "source": [
    "client = docker.from_env()\n",
    "container = client.containers.get('splash')\n",
    "#start container\n",
    "container.start()"
   ]
  },
  {
   "cell_type": "code",
   "execution_count": 44,
   "metadata": {},
   "outputs": [],
   "source": [
    "def get_soup(url):\n",
    "    t = 0\n",
    "    if url.startswith(\"https://www.amazon.com/dp/\") or url.startswith(\"https://www.amazon.com/s?i\"):\n",
    "        time_wait = 20\n",
    "    else:\n",
    "        time_wait = 2\n",
    "    while True:\n",
    "        r = requests.get(\"http://localhost:8050/render.html\", params={\"url\": url,'wait': time_wait, 'viewport': '320x480', 'images': 0, 'resource_timeout': 10})\n",
    "        soup = BeautifulSoup(r.text, \"html.parser\")\n",
    "        if soup.text.find('GlobalTimeoutError') != -1:\n",
    "            container.restart()\n",
    "            time.sleep(31)\n",
    "            print(f\"time sleep try {t}\")\n",
    "            time_wait += 4\n",
    "            if t == 2:\n",
    "                print(f\"too many timeouts (2) for url: {url}\")\n",
    "                break\n",
    "            t += 1\n",
    "        else:\n",
    "            print(f\"page successfully loaded in time {time_wait}: {url}\")\n",
    "            break       \n",
    "    return soup"
   ]
  },
  {
   "cell_type": "code",
   "execution_count": 4,
   "metadata": {},
   "outputs": [],
   "source": [
    "def get_link_asin(link):\n",
    "    link_asin = {}\n",
    "    splitted_link = link['href'].split('/')\n",
    "    name = splitted_link[1]\n",
    "    link_asin['link'] = name\n",
    "    asin = splitted_link[3]\n",
    "    link_asin['asin'] = asin\n",
    "    #You can create the link to the review page with the name and asin\n",
    "    link_asin['full_link'] = \"https://www.amazon.com/\"+str(name)+\"/product-reviews/\"+str(asin)+\"/ref=cm_cr_dp_d_show_all_btm?ie=UTF8&reviewerType=all_reviews&pageNumber=\"\n",
    "    return link_asin"
   ]
  },
  {
   "cell_type": "code",
   "execution_count": 5,
   "metadata": {},
   "outputs": [],
   "source": [
    "with open(f\"../../gen/input/amazon_links.csv\", \"w\", encoding = \"UTF-8\", newline = '') as csv_file:\n",
    "    writer = csv.writer(csv_file, delimiter = \";\")\n",
    "    writer.writerow([\"name\", \"asin\", \"product_link\", \"page_link\"])\n"
   ]
  },
  {
   "cell_type": "code",
   "execution_count": 6,
   "metadata": {},
   "outputs": [
    {
     "name": "stdout",
     "output_type": "stream",
     "text": [
      "page successfully loaded in time 20: https://www.amazon.com/s?i=hpc-intl-ship&bbn=16225010011&rh=n%3A16225010011%2Cn%3A3777891&page=1&qid=1709220798&ref=sr_pg_1\n",
      "currently looking at page 1\n",
      "12\n",
      "page successfully loaded in time 20: https://www.amazon.com/s?i=hpc-intl-ship&bbn=16225010011&rh=n%3A16225010011%2Cn%3A3777891&page=2&qid=1709220798&ref=sr_pg_2\n",
      "currently looking at page 2\n",
      "24\n",
      "page successfully loaded in time 20: https://www.amazon.com/s?i=hpc-intl-ship&bbn=16225010011&rh=n%3A16225010011%2Cn%3A3777891&page=3&qid=1709220798&ref=sr_pg_3\n",
      "currently looking at page 3\n",
      "36\n",
      "page successfully loaded in time 20: https://www.amazon.com/s?i=hpc-intl-ship&bbn=16225010011&rh=n%3A16225010011%2Cn%3A3777891&page=4&qid=1709220798&ref=sr_pg_4\n",
      "currently looking at page 4\n",
      "48\n",
      "page successfully loaded in time 20: https://www.amazon.com/s?i=hpc-intl-ship&bbn=16225010011&rh=n%3A16225010011%2Cn%3A3777891&page=5&qid=1709220798&ref=sr_pg_5\n",
      "currently looking at page 5\n",
      "60\n",
      "page successfully loaded in time 20: https://www.amazon.com/s?i=hpc-intl-ship&bbn=16225010011&rh=n%3A16225010011%2Cn%3A3777891&page=6&qid=1709220798&ref=sr_pg_6\n",
      "currently looking at page 6\n",
      "72\n",
      "page successfully loaded in time 20: https://www.amazon.com/s?i=hpc-intl-ship&bbn=16225010011&rh=n%3A16225010011%2Cn%3A3777891&page=7&qid=1709220798&ref=sr_pg_7\n",
      "currently looking at page 7\n",
      "84\n",
      "page successfully loaded in time 20: https://www.amazon.com/s?i=hpc-intl-ship&bbn=16225010011&rh=n%3A16225010011%2Cn%3A3777891&page=8&qid=1709220798&ref=sr_pg_8\n",
      "currently looking at page 8\n",
      "96\n",
      "page successfully loaded in time 20: https://www.amazon.com/s?i=hpc-intl-ship&bbn=16225010011&rh=n%3A16225010011%2Cn%3A3777891&page=9&qid=1709220798&ref=sr_pg_9\n",
      "currently looking at page 9\n",
      "108\n",
      "page successfully loaded in time 20: https://www.amazon.com/s?i=hpc-intl-ship&bbn=16225010011&rh=n%3A16225010011%2Cn%3A3777891&page=10&qid=1709220798&ref=sr_pg_10\n",
      "currently looking at page 10\n",
      "120\n"
     ]
    }
   ],
   "source": [
    "all_product_links = []\n",
    "i = 1\n",
    "with open(f\"../../gen/input/amazon_links.csv\", \"a\", encoding = \"UTF-8\", newline = '') as csv_file:\n",
    "    writer = csv.writer(csv_file, delimiter = \";\")\n",
    "    while i <= 10:\n",
    "        #page link filtered on Ios, android and windows (to avoid including non-smartphone phones) and including out-of-stock\n",
    "        page_link = f\"https://www.amazon.com/s?i=hpc-intl-ship&bbn=16225010011&rh=n%3A16225010011%2Cn%3A3777891&page={i}&qid=1709220798&ref=sr_pg_{i}\"\n",
    "        soup = get_soup(page_link)\n",
    "        print(f\"currently looking at page {i}\")\n",
    "        #Block usually after about 100 pages\n",
    "        if soup.title.text==\"Sorry! Something went wrong!\":\n",
    "            print(\"Blocked\")\n",
    "            break\n",
    "        #If not block, gather asin and link\n",
    "        else:\n",
    "            links = soup.find_all(class_=\"a-link-normal s-no-outline\")\n",
    "        for link in links:\n",
    "            if link['href'].find('/dp/') != -1 and not link['href'].startswith('/dp/'):\n",
    "                link_asin = get_link_asin(link)\n",
    "                link_asin['page_link'] = page_link\n",
    "                all_product_links.append(link_asin)\n",
    "                writer.writerow(list(link_asin.values()))\n",
    "        #Try to find next page button. If absent, break\n",
    "        try:\n",
    "            soup.find('span', class_ = \"s-pagination-item s-pagination-next s-pagination-disabled\").text\n",
    "            print('last page')\n",
    "            break\n",
    "        except:\n",
    "            pass\n",
    "        print(len(all_product_links))\n",
    "        i += 1"
   ]
  },
  {
   "cell_type": "code",
   "execution_count": 7,
   "metadata": {},
   "outputs": [],
   "source": [
    "with open(f\"../../data/amazon.csv\", \"w\", encoding = \"UTF-8\", newline = '') as csv_file:\n",
    "    writer = csv.writer(csv_file, delimiter = \";\")\n",
    "    writer.writerow([\"asin_url\", \"brand\", \"model\", \"link\", \"product_title\",\n",
    "             \"name\", \"rating\", \"review_title\", \"country\", \"date\",\n",
    "             \"specs\", \"first_spec\", \"review\", \"helpful\", \"picture\",\n",
    "            \"verified\", \"profile\", \"video\"])"
   ]
  },
  {
   "cell_type": "code",
   "execution_count": null,
   "metadata": {},
   "outputs": [],
   "source": [
    "#close container\n"
   ]
  },
  {
   "cell_type": "code",
   "execution_count": 53,
   "metadata": {},
   "outputs": [],
   "source": [
    "#This function retrieves all the review info from a page\n",
    "def get_reviews_from_page(product_info, start=1, end = 500):\n",
    "    print(f\"succesfully loaded {product_info['title']}\")\n",
    "    with open(f\"../../data/amazon.csv\", \"a\", encoding = \"UTF-8\", newline = '') as csv_file:\n",
    "        writer = csv.writer(csv_file, delimiter = \";\")\n",
    "        for i in range(start,end):\n",
    "            missing_page = []\n",
    "            soup_reviews = get_soup((product_info['link']+str(i)).replace(\"ref=cm_cr_arp_d_paging_btm_next_2?ie=UTF8&reviewerType=all_reviews&pageNumber=\", f\"ref=cm_cr_getr_d_paging_btm_next_{i}?pageNumber=\"))\n",
    "            reviews = soup_reviews.find_all('div', {\"data-hook\":\"review\"})\n",
    "            if len(reviews) == 0:\n",
    "                print(f'Could not find any reviews at page {i}')\n",
    "                break\n",
    "            else:\n",
    "                pass\n",
    "\n",
    "            #check if chaptcha\n",
    "            if soup.find('h4').text == 'Enter the characters you see below':\n",
    "                print('chaptcha check')\n",
    "                container.stop()\n",
    "                raise Exception('chaptcha')\n",
    "\n",
    "            for review in reviews:\n",
    "                review_info = {}\n",
    "                review_info = {\n",
    "                'product_url' : product_info['link']+str(i),\n",
    "                'brand' : product_info['brand'],\n",
    "                'model' : product_info['model'],\n",
    "                'link' : product_info['link']+str(i),\n",
    "                'product_title' : product_info['title']\n",
    "                }\n",
    "                try:\n",
    "                    review_info['name'] = review.find('span', class_=\"a-profile-name\").text\n",
    "                except:\n",
    "                    review_info['name'] = None\n",
    "                try:\n",
    "                    review_info['star_rating'] = float(review.find('i', {\"data-hook\":\"review-star-rating\"}).text.replace(' out of 5 stars',''))\n",
    "                except:\n",
    "                    #foreign countries\n",
    "                    try:\n",
    "                        review_info['star_rating'] = float(review.find('i', {\"data-hook\":\"cmps-review-star-rating\"}).text.replace(' out of 5 stars',''))\n",
    "                    except:\n",
    "                        review_info['star_rating'] = None\n",
    "                try:\n",
    "                    review_info['title'] = review.find('a', {\"data-hook\":\"review-title\"}).text.strip()\n",
    "                except:\n",
    "                    try:\n",
    "                        #foreign countries\n",
    "                        review_info['title'] = review.find('span',{\"data-hook\":\"review-title\"}).text.strip()\n",
    "                    except:\n",
    "                        review_info['title'] = None\n",
    "                try:\n",
    "                    review_info['country'] = review.find('span', {\"data-hook\":\"review-date\"}).text.replace('Reviewed in ','').rpartition(' on')[0]\n",
    "                except:\n",
    "                    review_info['country'] = None\n",
    "                try:\n",
    "                    review_info['date'] = review.find('span', {\"data-hook\":\"review-date\"}).text.replace('Reviewed in ','').rpartition(' on')[2].strip()\n",
    "                except:\n",
    "                    review_info['date'] = None\n",
    "                attr = []\n",
    "                try:\n",
    "                    attributes = str(reviews[0].find('a', {\"data-hook\":\"format-strip\"}))\n",
    "                    for item in re.findall(r'[>](.+?)[<]', attributes):\n",
    "                        attr.append(item.replace('</i>',''))\n",
    "                    review_info['info'] = attr\n",
    "                except:\n",
    "                    review_info['info'] = None\n",
    "                try:\n",
    "                    for at in attr:\n",
    "                        if at.find(\"Color:\") != -1:\n",
    "                            color = at.replace(\"Color: \", \"\")\n",
    "                    review_info['color'] = color\n",
    "                except:\n",
    "                    review_info['color'] = None\n",
    "                try:\n",
    "                    review_info['review'] = review.find('span', {\"data-hook\":\"review-body\"}).text.strip()\n",
    "                except:\n",
    "                    review_info['review'] = None\n",
    "                try:\n",
    "                    helpful = review.find('span', {\"data-hook\" : \"helpful-vote-statement\"}).text.strip()\n",
    "                    if helpful == \"One person found this helpful\":\n",
    "                        review_info['helpful'] = 1\n",
    "                    elif \"found this helpful\" in helpful:\n",
    "                        review_info['helpful'] = helpful.split()[0]\n",
    "                    else:\n",
    "                        review_info['helpful'] = helpful\n",
    "                except:\n",
    "                    review_info['helpful'] = None\n",
    "                try:\n",
    "                    #get links for consumer pictures\n",
    "                    if review.find('div', class_=\"review-image-tile-section\") is None:\n",
    "                        review_info['picture'] = 'no'\n",
    "                    else:\n",
    "                        pics = review.find('div', class_ = \"a-section a-spacing-top-mini cr-lightbox-image-thumbnails\").find_all('img')\n",
    "                        review_info['picture'] = [img['src'] for img in pics]\n",
    "                except:\n",
    "                    review_info['picture'] = None\n",
    "\n",
    "                try:\n",
    "                    if review.find('span', {\"data-hook\":\"avp-badge\"}) is None:\n",
    "                        review_info['verified'] = 'no'\n",
    "                    else:\n",
    "                        review_info['verified'] = 'yes'\n",
    "                except:\n",
    "                    review_info['verified'] = None\n",
    "                    \n",
    "                try:\n",
    "                    pf_link = review.find('div', class_=\"a-profile-avatar\").find('img')['data-src']\n",
    "                    #check if it is a default image\n",
    "                    if pf_link.find('default') != -1:\n",
    "                        pf_link = None\n",
    "                    else:\n",
    "                        #saving picture\n",
    "                        try:\n",
    "                            r = requests.get(pf_link)\n",
    "                            with open(f\"../../gen/output/photos/\"+pf_link.split('/')[-1], \"wb\") as f:\n",
    "                                f.write(r.content)\n",
    "                        except:\n",
    "                            print('error while downloading profile picture')            \n",
    "                    review_info['profile_picture'] = pf_link\n",
    "\n",
    "                except:\n",
    "                    review_info['profile_picture'] = None\n",
    "                    \n",
    "                try:\n",
    "                    video = review.find('div', class_=\"vse-airy-container vse-player-container\")\n",
    "                    if video == None:\n",
    "                        review_info['video'] = 'no'\n",
    "                    else:\n",
    "                        review_info['video'] = 'yes'\n",
    "                except:\n",
    "                    review_info['video'] = None\n",
    "\n",
    "                all_reviews.append(review_info)\n",
    "                missing_values = [key for key,value in review_info.items() if value == None]\n",
    "                missing_page += missing_values\n",
    "                writer.writerow(list(review_info.values()))\n",
    "            print(len(all_reviews))\n",
    "            if len(all_reviews) % 500 == 0:\n",
    "                print('restart container')\n",
    "                container.restart()\n",
    "                time.sleep(15)\n",
    "            #missing values checker\n",
    "            if len(missing_page) > 0:\n",
    "                print(f\"the following items were missing: {dict(Counter(missing_page))}\")\n",
    "\n",
    "            if not soup_reviews.find('li', class_ = \"a-disabled a-last\"):\n",
    "                pass\n",
    "            else:\n",
    "                print(f\"page {i} was the last page\")\n",
    "                break"
   ]
  },
  {
   "cell_type": "code",
   "execution_count": 14,
   "metadata": {},
   "outputs": [],
   "source": [
    "if 1010 % 100 == 0:\n",
    "    print('yes')"
   ]
  },
  {
   "cell_type": "code",
   "execution_count": 10,
   "metadata": {},
   "outputs": [
    {
     "data": {
      "text/html": [
       "<div>\n",
       "<style scoped>\n",
       "    .dataframe tbody tr th:only-of-type {\n",
       "        vertical-align: middle;\n",
       "    }\n",
       "\n",
       "    .dataframe tbody tr th {\n",
       "        vertical-align: top;\n",
       "    }\n",
       "\n",
       "    .dataframe thead th {\n",
       "        text-align: right;\n",
       "    }\n",
       "</style>\n",
       "<table border=\"1\" class=\"dataframe\">\n",
       "  <thead>\n",
       "    <tr style=\"text-align: right;\">\n",
       "      <th></th>\n",
       "      <th>name</th>\n",
       "      <th>asin</th>\n",
       "      <th>product_link</th>\n",
       "      <th>page_link</th>\n",
       "    </tr>\n",
       "  </thead>\n",
       "  <tbody>\n",
       "    <tr>\n",
       "      <th>0</th>\n",
       "      <td>GuruNanda-Essential-Vitamins-Mouthwash-Supports</td>\n",
       "      <td>B0BVFXGMLW</td>\n",
       "      <td>https://www.amazon.com/GuruNanda-Essential-Vit...</td>\n",
       "      <td>https://www.amazon.com/s?i=hpc-intl-ship&amp;bbn=1...</td>\n",
       "    </tr>\n",
       "    <tr>\n",
       "      <th>1</th>\n",
       "      <td>Mighty-Patch-Hydrocolloid-Absorbing-count</td>\n",
       "      <td>B074PVTPBW</td>\n",
       "      <td>https://www.amazon.com/Mighty-Patch-Hydrocollo...</td>\n",
       "      <td>https://www.amazon.com/s?i=hpc-intl-ship&amp;bbn=1...</td>\n",
       "    </tr>\n",
       "    <tr>\n",
       "      <th>2</th>\n",
       "      <td>PanOxyl-Foaming-Peroxide-Strength-Antimicrobial</td>\n",
       "      <td>B081KL2QYJ</td>\n",
       "      <td>https://www.amazon.com/PanOxyl-Foaming-Peroxid...</td>\n",
       "      <td>https://www.amazon.com/s?i=hpc-intl-ship&amp;bbn=1...</td>\n",
       "    </tr>\n",
       "    <tr>\n",
       "      <th>3</th>\n",
       "      <td>Neutrogena-Cleansing-Towelettes-Waterproof-Alc...</td>\n",
       "      <td>B00U2VQZDS</td>\n",
       "      <td>https://www.amazon.com/Neutrogena-Cleansing-To...</td>\n",
       "      <td>https://www.amazon.com/s?i=hpc-intl-ship&amp;bbn=1...</td>\n",
       "    </tr>\n",
       "    <tr>\n",
       "      <th>4</th>\n",
       "      <td>CeraVe-Moisturizing-Cream-Daily-Moisturizer</td>\n",
       "      <td>B00TTD9BRC</td>\n",
       "      <td>https://www.amazon.com/CeraVe-Moisturizing-Cre...</td>\n",
       "      <td>https://www.amazon.com/s?i=hpc-intl-ship&amp;bbn=1...</td>\n",
       "    </tr>\n",
       "    <tr>\n",
       "      <th>...</th>\n",
       "      <td>...</td>\n",
       "      <td>...</td>\n",
       "      <td>...</td>\n",
       "      <td>...</td>\n",
       "    </tr>\n",
       "    <tr>\n",
       "      <th>115</th>\n",
       "      <td>Philips-QP230-50-Oneblade-Replacement</td>\n",
       "      <td>B0743KVCJC</td>\n",
       "      <td>https://www.amazon.com/Philips-QP230-50-Onebla...</td>\n",
       "      <td>https://www.amazon.com/s?i=hpc-intl-ship&amp;bbn=1...</td>\n",
       "    </tr>\n",
       "    <tr>\n",
       "      <th>116</th>\n",
       "      <td>Bio-Oil-4-2oz-Multiuse-Skincare-Oil</td>\n",
       "      <td>B004AI97MA</td>\n",
       "      <td>https://www.amazon.com/Bio-Oil-4-2oz-Multiuse-...</td>\n",
       "      <td>https://www.amazon.com/s?i=hpc-intl-ship&amp;bbn=1...</td>\n",
       "    </tr>\n",
       "    <tr>\n",
       "      <th>117</th>\n",
       "      <td>Colgate-Toothbrush-Toothbrushes-Ergonomic-Circ...</td>\n",
       "      <td>B00CC6XSRC</td>\n",
       "      <td>https://www.amazon.com/Colgate-Toothbrush-Toot...</td>\n",
       "      <td>https://www.amazon.com/s?i=hpc-intl-ship&amp;bbn=1...</td>\n",
       "    </tr>\n",
       "    <tr>\n",
       "      <th>118</th>\n",
       "      <td>Vicks-VapoShower-Aromatherapy-Eucalyptus-Essen...</td>\n",
       "      <td>B08QTZBK5Y</td>\n",
       "      <td>https://www.amazon.com/Vicks-VapoShower-Aromat...</td>\n",
       "      <td>https://www.amazon.com/s?i=hpc-intl-ship&amp;bbn=1...</td>\n",
       "    </tr>\n",
       "    <tr>\n",
       "      <th>119</th>\n",
       "      <td>Dove-Antiperspirant-Deodorant-Stick-Extra</td>\n",
       "      <td>B01HTJTMF8</td>\n",
       "      <td>https://www.amazon.com/Dove-Antiperspirant-Deo...</td>\n",
       "      <td>https://www.amazon.com/s?i=hpc-intl-ship&amp;bbn=1...</td>\n",
       "    </tr>\n",
       "  </tbody>\n",
       "</table>\n",
       "<p>120 rows × 4 columns</p>\n",
       "</div>"
      ],
      "text/plain": [
       "                                                  name        asin  \\\n",
       "0      GuruNanda-Essential-Vitamins-Mouthwash-Supports  B0BVFXGMLW   \n",
       "1            Mighty-Patch-Hydrocolloid-Absorbing-count  B074PVTPBW   \n",
       "2      PanOxyl-Foaming-Peroxide-Strength-Antimicrobial  B081KL2QYJ   \n",
       "3    Neutrogena-Cleansing-Towelettes-Waterproof-Alc...  B00U2VQZDS   \n",
       "4          CeraVe-Moisturizing-Cream-Daily-Moisturizer  B00TTD9BRC   \n",
       "..                                                 ...         ...   \n",
       "115              Philips-QP230-50-Oneblade-Replacement  B0743KVCJC   \n",
       "116                Bio-Oil-4-2oz-Multiuse-Skincare-Oil  B004AI97MA   \n",
       "117  Colgate-Toothbrush-Toothbrushes-Ergonomic-Circ...  B00CC6XSRC   \n",
       "118  Vicks-VapoShower-Aromatherapy-Eucalyptus-Essen...  B08QTZBK5Y   \n",
       "119          Dove-Antiperspirant-Deodorant-Stick-Extra  B01HTJTMF8   \n",
       "\n",
       "                                          product_link  \\\n",
       "0    https://www.amazon.com/GuruNanda-Essential-Vit...   \n",
       "1    https://www.amazon.com/Mighty-Patch-Hydrocollo...   \n",
       "2    https://www.amazon.com/PanOxyl-Foaming-Peroxid...   \n",
       "3    https://www.amazon.com/Neutrogena-Cleansing-To...   \n",
       "4    https://www.amazon.com/CeraVe-Moisturizing-Cre...   \n",
       "..                                                 ...   \n",
       "115  https://www.amazon.com/Philips-QP230-50-Onebla...   \n",
       "116  https://www.amazon.com/Bio-Oil-4-2oz-Multiuse-...   \n",
       "117  https://www.amazon.com/Colgate-Toothbrush-Toot...   \n",
       "118  https://www.amazon.com/Vicks-VapoShower-Aromat...   \n",
       "119  https://www.amazon.com/Dove-Antiperspirant-Deo...   \n",
       "\n",
       "                                             page_link  \n",
       "0    https://www.amazon.com/s?i=hpc-intl-ship&bbn=1...  \n",
       "1    https://www.amazon.com/s?i=hpc-intl-ship&bbn=1...  \n",
       "2    https://www.amazon.com/s?i=hpc-intl-ship&bbn=1...  \n",
       "3    https://www.amazon.com/s?i=hpc-intl-ship&bbn=1...  \n",
       "4    https://www.amazon.com/s?i=hpc-intl-ship&bbn=1...  \n",
       "..                                                 ...  \n",
       "115  https://www.amazon.com/s?i=hpc-intl-ship&bbn=1...  \n",
       "116  https://www.amazon.com/s?i=hpc-intl-ship&bbn=1...  \n",
       "117  https://www.amazon.com/s?i=hpc-intl-ship&bbn=1...  \n",
       "118  https://www.amazon.com/s?i=hpc-intl-ship&bbn=1...  \n",
       "119  https://www.amazon.com/s?i=hpc-intl-ship&bbn=1...  \n",
       "\n",
       "[120 rows x 4 columns]"
      ]
     },
     "execution_count": 10,
     "metadata": {},
     "output_type": "execute_result"
    }
   ],
   "source": [
    "#load csv using pandas\n",
    "import pandas as pd\n",
    "import re\n",
    "all_reviews = []\n",
    "#no headers\n",
    "links_data = pd.read_csv(f\"../../gen/input/amazon_links.csv\", delimiter = \";\")\n",
    "links_data"
   ]
  },
  {
   "cell_type": "code",
   "execution_count": 85,
   "metadata": {},
   "outputs": [],
   "source": [
    "all_reviews = []"
   ]
  },
  {
   "cell_type": "code",
   "execution_count": 54,
   "metadata": {},
   "outputs": [
    {
     "name": "stdout",
     "output_type": "stream",
     "text": [
      "1 / 36\n",
      "succesfully loaded Davids-Hydroxyapatite-Toothpaste-Sensitive-Peppermint\n",
      "page successfully loaded in time 2: https://www.amazon.com/Davids-Hydroxyapatite-Toothpaste-Sensitive-Peppermint/product-reviews/B09JHSVM58/ref=cm_cr_dp_d_show_all_btm?ie=UTF8&reviewerType=all_reviews&pageNumber=1\n",
      "chaptcha check\n"
     ]
    },
    {
     "ename": "Exception",
     "evalue": "chaptcha",
     "output_type": "error",
     "traceback": [
      "\u001b[1;31m---------------------------------------------------------------------------\u001b[0m",
      "\u001b[1;31mException\u001b[0m                                 Traceback (most recent call last)",
      "Cell \u001b[1;32mIn[54], line 19\u001b[0m\n\u001b[0;32m     10\u001b[0m     \u001b[38;5;28mprint\u001b[39m(\u001b[38;5;124mf\u001b[39m\u001b[38;5;124m\"\u001b[39m\u001b[38;5;132;01m{\u001b[39;00ml\u001b[38;5;132;01m}\u001b[39;00m\u001b[38;5;124m / \u001b[39m\u001b[38;5;132;01m{\u001b[39;00m\u001b[38;5;28mlen\u001b[39m(links_left)\u001b[38;5;132;01m}\u001b[39;00m\u001b[38;5;124m\"\u001b[39m)\n\u001b[0;32m     11\u001b[0m     product_info \u001b[38;5;241m=\u001b[39m {\n\u001b[0;32m     12\u001b[0m     \u001b[38;5;124m'\u001b[39m\u001b[38;5;124mproduct_url\u001b[39m\u001b[38;5;124m'\u001b[39m : \u001b[38;5;124m\"\u001b[39m\u001b[38;5;124mhttps://www.amazon.com/dp/\u001b[39m\u001b[38;5;124m\"\u001b[39m\u001b[38;5;241m+\u001b[39mlink\u001b[38;5;241m.\u001b[39msplit(\u001b[38;5;124m'\u001b[39m\u001b[38;5;124m/\u001b[39m\u001b[38;5;124m'\u001b[39m)[\u001b[38;5;241m-\u001b[39m\u001b[38;5;241m2\u001b[39m],\n\u001b[0;32m     13\u001b[0m     \u001b[38;5;124m'\u001b[39m\u001b[38;5;124mbrand\u001b[39m\u001b[38;5;124m'\u001b[39m : \u001b[38;5;28;01mNone\u001b[39;00m,\n\u001b[1;32m   (...)\u001b[0m\n\u001b[0;32m     17\u001b[0m     \u001b[38;5;124m'\u001b[39m\u001b[38;5;124mproduct_title\u001b[39m\u001b[38;5;124m'\u001b[39m : \u001b[38;5;28;01mNone\u001b[39;00m\n\u001b[0;32m     18\u001b[0m     }\n\u001b[1;32m---> 19\u001b[0m     get_reviews_from_page(product_info, \u001b[38;5;241m1\u001b[39m, \u001b[38;5;241m15\u001b[39m)\n\u001b[0;32m     20\u001b[0m     l \u001b[38;5;241m+\u001b[39m\u001b[38;5;241m=\u001b[39m \u001b[38;5;241m1\u001b[39m\n\u001b[0;32m     21\u001b[0m container\u001b[38;5;241m.\u001b[39mstop()\n",
      "Cell \u001b[1;32mIn[53], line 20\u001b[0m, in \u001b[0;36mget_reviews_from_page\u001b[1;34m(product_info, start, end)\u001b[0m\n\u001b[0;32m     18\u001b[0m     \u001b[38;5;28mprint\u001b[39m(\u001b[38;5;124m'\u001b[39m\u001b[38;5;124mchaptcha check\u001b[39m\u001b[38;5;124m'\u001b[39m)\n\u001b[0;32m     19\u001b[0m     container\u001b[38;5;241m.\u001b[39mstop()\n\u001b[1;32m---> 20\u001b[0m     \u001b[38;5;28;01mraise\u001b[39;00m \u001b[38;5;167;01mException\u001b[39;00m(\u001b[38;5;124m'\u001b[39m\u001b[38;5;124mchaptcha\u001b[39m\u001b[38;5;124m'\u001b[39m)\n\u001b[0;32m     22\u001b[0m \u001b[38;5;28;01mfor\u001b[39;00m review \u001b[38;5;129;01min\u001b[39;00m reviews:\n\u001b[0;32m     23\u001b[0m     review_info \u001b[38;5;241m=\u001b[39m {}\n",
      "\u001b[1;31mException\u001b[0m: chaptcha"
     ]
    }
   ],
   "source": [
    "#view links so far from amazon.csv\n",
    "data_so_far = pd.read_csv(f\"../../data/amazon.csv\", delimiter = \";\")\n",
    "links_so_far = data_so_far['asin_url'].unique()\n",
    "#remove last digits in links_so_far\n",
    "links_so_far = [re.sub(r'\\d+$', '', link) for link in links_so_far]\n",
    "links_left = [links for links in links_data['product_link'] if links not in links_so_far]\n",
    "\n",
    "l = 1\n",
    "for link in links_left:\n",
    "    print(f\"{l} / {len(links_left)}\")\n",
    "    product_info = {\n",
    "    'product_url' : \"https://www.amazon.com/dp/\"+link.split('/')[-2],\n",
    "    'brand' : None,\n",
    "    'model' : None,\n",
    "    'link' : link,\n",
    "    'title' : link.split('/')[3],\n",
    "    'product_title' : None\n",
    "    }\n",
    "    get_reviews_from_page(product_info, 1, 15)\n",
    "    l += 1\n",
    "container.stop()"
   ]
  },
  {
   "cell_type": "code",
   "execution_count": 47,
   "metadata": {},
   "outputs": [
    {
     "name": "stdout",
     "output_type": "stream",
     "text": [
      "page successfully loaded in time 20: https://www.amazon.com/dp/B07Y5PCHZ7\n"
     ]
    }
   ],
   "source": [
    "soup = get_soup(\"https://www.amazon.com/dp/B07Y5PCHZ7\")"
   ]
  },
  {
   "cell_type": "code",
   "execution_count": 48,
   "metadata": {},
   "outputs": [
    {
     "data": {
      "text/plain": [
       "<!DOCTYPE html>\n",
       "<!--[if lt IE 7]> <html lang=\"en-us\" class=\"a-no-js a-lt-ie9 a-lt-ie8 a-lt-ie7\"> <![endif]--><!--[if IE 7]>    <html lang=\"en-us\" class=\"a-no-js a-lt-ie9 a-lt-ie8\"> <![endif]--><!--[if IE 8]>    <html lang=\"en-us\" class=\"a-no-js a-lt-ie9\"> <![endif]--><!--[if gt IE 8]><!--><html class=\"a-no-js\" lang=\"en-us\"><!--<![endif]--><head>\n",
       "<meta content=\"text/html; charset=utf-8\" http-equiv=\"content-type\"/>\n",
       "<meta charset=\"utf-8\"/>\n",
       "<meta content=\"IE=edge,chrome=1\" http-equiv=\"X-UA-Compatible\"/>\n",
       "<title dir=\"ltr\">Amazon.com</title>\n",
       "<meta content=\"width=device-width\" name=\"viewport\"/>\n",
       "<link href=\"https://images-na.ssl-images-amazon.com/images/G/01/AUIClients/AmazonUI-3c913031596ca78a3768f4e934b1cc02ce238101.secure.min._V1_.css\" rel=\"stylesheet\"/>\n",
       "<script>\n",
       "\n",
       "if (true === true) {\n",
       "    var ue_t0 = (+ new Date()),\n",
       "        ue_csm = window,\n",
       "        ue = { t0: ue_t0, d: function() { return (+new Date() - ue_t0); } },\n",
       "        ue_furl = \"fls-na.amazon.com\",\n",
       "        ue_mid = \"ATVPDKIKX0DER\",\n",
       "        ue_sid = (document.cookie.match(/session-id=([0-9-]+)/) || [])[1],\n",
       "        ue_sn = \"opfcaptcha.amazon.com\",\n",
       "        ue_id = 'SE9M5N4S32KMAE5F9SH7';\n",
       "}\n",
       "</script>\n",
       "<script src=\"https://images-na.ssl-images-amazon.com/images/G/01/csminstrumentation/csm-captcha-instrumentation.min.js\"></script><script src=\"https://images-na.ssl-images-amazon.com/images/G/01/csminstrumentation/rd-script-6d68177fa6061598e9509dc4b5bdd08d.js\"></script><script src=\"https://images-na.ssl-images-amazon.com/images/G/01/csminstrumentation/ue-base-1c399ad9886cab69575e1e5ee15c61a1._V313498596_.js\"></script><script src=\"https://images-na.ssl-images-amazon.com/images/G/01/AUIClients/ClientSideMetricsAUIJavascript-51171fbdd28e1a7a61e922e8f0272af8bc74d37b.secure.variant-desktop-session-snapshot-keypress.min._V2_.js\"></script></head>\n",
       "<body>\n",
       "<!--\n",
       "        To discuss automated access to Amazon data please contact api-services-support@amazon.com.\n",
       "        For information about migrating to our APIs refer to our Marketplace APIs at https://developer.amazonservices.com/ref=rm_c_sv, or our Product Advertising API at https://affiliate-program.amazon.com/gp/advertising/api/detail/main.html/ref=rm_c_ac for advertising use cases.\n",
       "-->\n",
       "<!--\n",
       "Correios.DoNotSend\n",
       "-->\n",
       "<div class=\"a-container a-padding-double-large\" style=\"min-width:350px;padding:44px 0 !important\">\n",
       "<div class=\"a-row a-spacing-double-large\" style=\"width: 350px; margin: 0 auto\">\n",
       "<div class=\"a-row a-spacing-medium a-text-center\"><i class=\"a-icon a-logo\"></i></div>\n",
       "<div class=\"a-box a-alert a-alert-info a-spacing-base\">\n",
       "<div class=\"a-box-inner\">\n",
       "<i class=\"a-icon a-icon-alert\"></i>\n",
       "<h4>Enter the characters you see below</h4>\n",
       "<p class=\"a-last\">Sorry, we just need to make sure you're not a robot. For best results, please make sure your browser is accepting cookies.</p>\n",
       "</div>\n",
       "</div>\n",
       "<div class=\"a-section\">\n",
       "<div class=\"a-box a-color-offset-background\">\n",
       "<div class=\"a-box-inner a-padding-extra-large\">\n",
       "<form action=\"/errors/validateCaptcha\" method=\"get\" name=\"\">\n",
       "<input name=\"amzn\" type=\"hidden\" value=\"vgEkItvzwaUCG2GYGlI45A==\"/><input name=\"amzn-r\" type=\"hidden\" value=\"/dp/B07Y5PCHZ7\"/>\n",
       "<div class=\"a-row a-spacing-large\">\n",
       "<div class=\"a-box\">\n",
       "<div class=\"a-box-inner\">\n",
       "<h4>Type the characters you see in this image:</h4>\n",
       "<div class=\"a-row a-text-center\">\n",
       "<img src=\"https://images-na.ssl-images-amazon.com/captcha/bfhuzdtn/Captcha_xkowfyiggw.jpg\"/>\n",
       "</div>\n",
       "<div class=\"a-row a-spacing-base\">\n",
       "<div class=\"a-row\">\n",
       "<div class=\"a-column a-span6\">\n",
       "</div>\n",
       "<div class=\"a-column a-span6 a-span-last a-text-right\">\n",
       "<a onclick=\"window.location.reload()\">Try different image</a>\n",
       "</div>\n",
       "</div>\n",
       "<input autocapitalize=\"off\" autocomplete=\"off\" autocorrect=\"off\" class=\"a-span12\" id=\"captchacharacters\" name=\"field-keywords\" placeholder=\"Type characters\" spellcheck=\"false\" type=\"text\"/>\n",
       "</div>\n",
       "</div>\n",
       "</div>\n",
       "</div>\n",
       "<div class=\"a-section a-spacing-extra-large\">\n",
       "<div class=\"a-row\">\n",
       "<span class=\"a-button a-button-primary a-span12\">\n",
       "<span class=\"a-button-inner\">\n",
       "<button class=\"a-button-text\" type=\"submit\">Continue shopping</button>\n",
       "</span>\n",
       "</span>\n",
       "</div>\n",
       "</div>\n",
       "</form>\n",
       "</div>\n",
       "</div>\n",
       "</div>\n",
       "</div>\n",
       "<div class=\"a-divider a-divider-section\"><div class=\"a-divider-inner\"></div></div>\n",
       "<div class=\"a-text-center a-spacing-small a-size-mini\">\n",
       "<a href=\"https://www.amazon.com/gp/help/customer/display.html/ref=footer_cou?ie=UTF8&amp;nodeId=508088\">Conditions of Use</a>\n",
       "<span class=\"a-letter-space\"></span>\n",
       "<span class=\"a-letter-space\"></span>\n",
       "<span class=\"a-letter-space\"></span>\n",
       "<span class=\"a-letter-space\"></span>\n",
       "<a href=\"https://www.amazon.com/gp/help/customer/display.html/ref=footer_privacy?ie=UTF8&amp;nodeId=468496\">Privacy Policy</a>\n",
       "</div>\n",
       "<div class=\"a-text-center a-size-mini a-color-secondary\">\n",
       "          © 1996-2014, Amazon.com, Inc. or its affiliates\n",
       "          <script>\n",
       "           if (true === true) {\n",
       "             document.write('<img src=\"https://fls-na.amaz'+'on.com/'+'1/oc-csi/1/OP/requestId=SE9M5N4S32KMAE5F9SH7&js=1\" />');\n",
       "           };\n",
       "          </script><img src=\"https://fls-na.amazon.com/1/oc-csi/1/OP/requestId=SE9M5N4S32KMAE5F9SH7&amp;js=1\"/>\n",
       "<noscript>\n",
       "            &lt;img src=\"https://fls-na.amazon.com/1/oc-csi/1/OP/requestId=SE9M5N4S32KMAE5F9SH7&amp;js=0\" /&gt;\n",
       "          </noscript>\n",
       "</div>\n",
       "</div>\n",
       "<script>\n",
       "    if (true === true) {\n",
       "        var head = document.getElementsByTagName('head')[0],\n",
       "            prefix = \"https://images-na.ssl-images-amazon.com/images/G/01/csminstrumentation/\",\n",
       "            elem = document.createElement(\"script\");\n",
       "        elem.src = prefix + \"csm-captcha-instrumentation.min.js\";\n",
       "        head.appendChild(elem);\n",
       "\n",
       "        elem = document.createElement(\"script\");\n",
       "        elem.src = prefix + \"rd-script-6d68177fa6061598e9509dc4b5bdd08d.js\";\n",
       "        head.appendChild(elem);\n",
       "    }\n",
       "    </script>\n",
       "</body></html>"
      ]
     },
     "execution_count": 48,
     "metadata": {},
     "output_type": "execute_result"
    }
   ],
   "source": [
    "soup"
   ]
  },
  {
   "cell_type": "code",
   "execution_count": 52,
   "metadata": {},
   "outputs": [
    {
     "data": {
      "text/plain": [
       "True"
      ]
     },
     "execution_count": 52,
     "metadata": {},
     "output_type": "execute_result"
    }
   ],
   "source": [
    "#get soup header \n",
    "if soup.find('h4').text == 'Enter the characters you see below':\n",
    "    "
   ]
  },
  {
   "cell_type": "code",
   "execution_count": 76,
   "metadata": {},
   "outputs": [
    {
     "name": "stdout",
     "output_type": "stream",
     "text": [
      "page successfully loaded in time 2: https://www.amazon.com/Revlon-Kiss-Exfoliating-Balm-Sugar/product-reviews/B0759HSBQC/ref=cm_cr_dp_d_show_all_btm?ie=UTF8&reviewerType=all_reviews&pageNumber=9\n"
     ]
    }
   ],
   "source": [
    "link = \"https://www.amazon.com/Revlon-Kiss-Exfoliating-Balm-Sugar/product-reviews/B0759HSBQC/ref=cm_cr_dp_d_show_all_btm?ie=UTF8&reviewerType=all_reviews&pageNumber=\"\n",
    "i = 9\n",
    "soup_reviews = get_soup((link+str(i)).replace(\"ref=cm_cr_arp_d_paging_btm_next_2?ie=UTF8&reviewerType=all_reviews&pageNumber=\", f\"ref=cm_cr_getr_d_paging_btm_next_{i}?pageNumber=\"))\n",
    "reviews = soup_reviews.find_all('div', {\"data-hook\":\"review\"})"
   ]
  },
  {
   "cell_type": "markdown",
   "metadata": {},
   "source": [
    "# testing"
   ]
  },
  {
   "cell_type": "code",
   "execution_count": 77,
   "metadata": {},
   "outputs": [
    {
     "data": {
      "text/plain": [
       "['https://m.media-amazon.com/images/I/61Mvtq4n9oL._SY88.jpg']"
      ]
     },
     "execution_count": 77,
     "metadata": {},
     "output_type": "execute_result"
    }
   ],
   "source": [
    "#find image\n",
    "pics = reviews[0].find('div', class_ = \"a-section a-spacing-top-mini cr-lightbox-image-thumbnails\").find_all('img')\n",
    "[img['src'] for img in pics]"
   ]
  },
  {
   "cell_type": "code",
   "execution_count": 60,
   "metadata": {},
   "outputs": [
    {
     "data": {
      "text/plain": [
       "'https://images-na.ssl-images-amazon.com/images/S/amazon-avatars-global/2e87994e-58dc-4526-9e8f-bb8492f614b1._CR0,0,363,363_SX48_.jpg'"
      ]
     },
     "execution_count": 60,
     "metadata": {},
     "output_type": "execute_result"
    }
   ],
   "source": [
    "#to dataframe\n",
    "data = pd.DataFrame(all_reviews)\n",
    "#filter out the ones with no profile picture\n",
    "profile_pictures = data[data['profile_picture'].notna()]['profile_picture']\n",
    "\n",
    "\n"
   ]
  },
  {
   "cell_type": "code",
   "execution_count": 62,
   "metadata": {},
   "outputs": [
    {
     "data": {
      "text/plain": [
       "'2e87994e-58dc-4526-9e8f-bb8492f614b1._CR0,0,363,363_SX48_.jpg'"
      ]
     },
     "execution_count": 62,
     "metadata": {},
     "output_type": "execute_result"
    }
   ],
   "source": [
    "profile_pictures.iloc[0].split('/')[-1]"
   ]
  },
  {
   "cell_type": "code",
   "execution_count": 63,
   "metadata": {},
   "outputs": [],
   "source": [
    "#download the profile pictures\n",
    "for i in range(len(profile_pictures)):\n",
    "    r = requests.get(profile_pictures.iloc[i])\n",
    "    with open(f\"../../gen/output/photos/\"+profile_pictures.iloc[i].split('/')[-1], \"wb\") as f:\n",
    "        f.write(r.content)\n",
    "    time.sleep(1)"
   ]
  },
  {
   "cell_type": "code",
   "execution_count": 87,
   "metadata": {},
   "outputs": [],
   "source": [
    "pf_link = \"https://images-na.ssl-images-amazon.com/images/S/amazon-avatars-global/4d0e1bc9-8ce1-41e4-bc10-15a8df734c56._CR0,0,423,423_SX48_.jpg\"\n",
    "r = requests.get(pf_link)\n",
    "with open(f\"../../gen/output/photos/\"+pf_link.split('/')[-1], \"wb\") as f:\n",
    "    f.write(r.content)"
   ]
  }
 ],
 "metadata": {
  "kernelspec": {
   "display_name": "base",
   "language": "python",
   "name": "python3"
  },
  "language_info": {
   "codemirror_mode": {
    "name": "ipython",
    "version": 3
   },
   "file_extension": ".py",
   "mimetype": "text/x-python",
   "name": "python",
   "nbconvert_exporter": "python",
   "pygments_lexer": "ipython3",
   "version": "3.11.4"
  }
 },
 "nbformat": 4,
 "nbformat_minor": 2
}
