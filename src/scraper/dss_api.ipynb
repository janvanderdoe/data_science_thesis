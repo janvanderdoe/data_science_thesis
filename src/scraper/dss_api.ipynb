{
 "cells": [
  {
   "cell_type": "code",
   "execution_count": null,
   "metadata": {},
   "outputs": [],
   "source": [
    "import keepa\n",
    "import pandas as pd\n",
    "import time\n",
    "import inspect\n",
    "import csv\n",
    "from datetime import date\n",
    "from datetime import datetime"
   ]
  },
  {
   "cell_type": "markdown",
   "metadata": {},
   "source": [
    "This code makes API requests to keepa based on the asins from the raw data to retrieve historical and product data"
   ]
  },
  {
   "cell_type": "code",
   "execution_count": null,
   "metadata": {},
   "outputs": [],
   "source": [
    "accesskey = 'gfe071s7bsqhvf126ac7r1v7ug770q8uu1rtgleh4tprpq3oesuuqvatfo7lii50'\n",
    "api = keepa.Keepa(accesskey)"
   ]
  },
  {
   "cell_type": "code",
   "execution_count": null,
   "metadata": {},
   "outputs": [],
   "source": [
    "#Historical data retrieved from keepa are in dataframe format, sometimes with multiple observations for each date\n",
    "#Sicne amazone does not provide information of time in review, a simple average was used to calculated\n",
    "def transform_df(df):\n",
    "    t_df = df\n",
    "    try:\n",
    "        t_df.index = df.index.strftime('%Y-%m-%d')\n",
    "    except:\n",
    "        print('date already formatted')\n",
    "#-1 means missing. This is removed first\n",
    "    t_df = t_df[t_df.value != -1]\n",
    "    t_df = t_df.groupby(t_df.index).mean()\n",
    "    return t_df"
   ]
  },
  {
   "cell_type": "code",
   "execution_count": null,
   "metadata": {},
   "outputs": [],
   "source": [
    "def retrieve_data(asin, products):\n",
    "    if len(products[0]['data']) != 0:\n",
    "        #price cheapest new offering\n",
    "        price_new_history = transform_df(products[0]['data']['df_NEW']).rename({'value' : 'price_new'}, axis=1)\n",
    "        #price cheapest used product offering\n",
    "        price_used_history = transform_df(products[0]['data']['df_USED']).rename({'value' : 'price_used'}, axis=1)\n",
    "        #Star ratings\n",
    "        try:\n",
    "            rating_history = transform_df(products[0]['data']['df_RATING']).rename({'value' : 'rating'}, axis=1)\n",
    "        except:\n",
    "            rating_history = pd.DataFrame({'rating' : None}, index=[date.today()])\n",
    "        #Number of reviews\n",
    "        try:\n",
    "            review_history = transform_df(products[0]['data']['df_COUNT_REVIEWS']).rename({'value' : 'reviews'}, axis=1)\n",
    "        except:\n",
    "            review_history = pd.DataFrame({'reviews' : None}, index=[date.today()])\n",
    "        #Merge everything with outer joins\n",
    "        df = price_new_history.merge(price_used_history, right_index = True, left_index = True, how = \"outer\").merge(\n",
    "        rating_history, right_index = True, left_index = True, how = \"outer\").merge(\n",
    "        review_history, right_index = True, left_index = True, how = \"outer\")\n",
    "    #If there's no historical data\n",
    "    else:\n",
    "        df = pd.DataFrame({'price_new':products[0]['stats']['avg'][1], \n",
    "                           'price_used' : products[0]['stats']['avg'][2], \n",
    "                           'rating' : None, \n",
    "                           'reviews' : None}, index=[date.today()])\n",
    "    df[\"asin\"] = asin\n",
    "    #Out of stock new products\n",
    "    df[\"oos_new\"] = products[0]['stats'][\"outOfStockPercentageInInterval\"][1]\n",
    "    #Out of stock used products\n",
    "    df[\"oos_used\"] = products[0]['stats'][\"outOfStockPercentageInInterval\"][2]\n",
    "    #Number of keepa minutes since product was listed\n",
    "    df[\"listed_since\"] = products[0]['listedSince']\n",
    "    df.index = pd.to_datetime(df.index)\n",
    "    #df = df.interpolate(method='time')\n",
    "    return df"
   ]
  },
  {
   "cell_type": "code",
   "execution_count": null,
   "metadata": {},
   "outputs": [],
   "source": [
    "#import data from csv file\n",
    "data = pd.read_csv('../../gen/input/amazon_search_hedonic_clean.csv', sep = \";\")\n",
    "asins = data['asin'].unique()"
   ]
  },
  {
   "cell_type": "code",
   "execution_count": null,
   "metadata": {},
   "outputs": [],
   "source": [
    "with open(f\"../../gen/input/api_info.csv\", \"w\", encoding = \"UTF-8\", newline = '') as csv_file:\n",
    "    writer = csv.writer(csv_file, delimiter = \";\")\n",
    "    writer.writerow([\"date\", \"price_new\", \"price_used\", \"rating\", \"reviews\", \"asin\", \"oos_new\", \"oos_used\", \"listed_since\"])"
   ]
  },
  {
   "cell_type": "code",
   "execution_count": null,
   "metadata": {},
   "outputs": [],
   "source": [
    "data_so_far = pd.read_csv(f\"../../gen/input/api_info.csv\", sep = \";\")\n",
    "asins_so_far = data_so_far['asin'].unique()\n",
    "\n",
    "print(len(asins))\n",
    "print(len(asins_so_far))\n",
    "asins_left = list(set(asins) - set(asins_so_far))\n",
    "len(asins_left)\n"
   ]
  },
  {
   "cell_type": "code",
   "execution_count": null,
   "metadata": {},
   "outputs": [],
   "source": [
    "data_so_far = pd.read_csv(f\"../../gen/input/api_info.csv\", sep = \";\")\n",
    "asins_so_far = data_so_far['asin'].unique()\n",
    "\n",
    "print(len(asins))\n",
    "print(len(asins_so_far))\n",
    "asins_left = list(set(asins) - set(asins_so_far))\n",
    "print(len(asins_left))\n",
    "\n",
    "i = 0\n",
    "tokens_left = api.tokens_left\n",
    "print(\"tokens left: \", tokens_left)\n",
    "#for asin in asins_left[3:round(((tokens_left*1.1)/2))]:\n",
    "for asin in asins_left:\n",
    "    print(asin)\n",
    "    products = api.query(asin, stats = 3650, history = 1, rating = 1)\n",
    "    try:\n",
    "        df = retrieve_data(asin, products)\n",
    "        #df1 = df.interpolate(method='time')\n",
    "        #df2 = df1.fillna(method='bfill')\n",
    "        df.to_csv(f\"../../gen/input/api_info.csv\", mode = \"a\", sep = \";\", header = False)\n",
    "    except:\n",
    "        print(\"error with asin: \", asin)\n",
    "        continue\n",
    "    i += 1\n",
    "    if i % 10 == 0:\n",
    "        print(i)\n",
    "    time.sleep(0.3)"
   ]
  }
 ],
 "metadata": {
  "kernelspec": {
   "display_name": "base",
   "language": "python",
   "name": "python3"
  },
  "language_info": {
   "codemirror_mode": {
    "name": "ipython",
    "version": 3
   },
   "file_extension": ".py",
   "mimetype": "text/x-python",
   "name": "python",
   "nbconvert_exporter": "python",
   "pygments_lexer": "ipython3",
   "version": "3.11.4"
  }
 },
 "nbformat": 4,
 "nbformat_minor": 2
}
