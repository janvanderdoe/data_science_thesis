{
 "cells": [
  {
   "cell_type": "code",
   "execution_count": 1,
   "metadata": {},
   "outputs": [],
   "source": [
    "import keepa\n",
    "import pandas as pd\n",
    "import time\n",
    "import inspect\n",
    "import csv\n",
    "from datetime import date\n",
    "from datetime import datetime"
   ]
  },
  {
   "cell_type": "code",
   "execution_count": 2,
   "metadata": {},
   "outputs": [],
   "source": [
    "accesskey = 'gfe071s7bsqhvf126ac7r1v7ug770q8uu1rtgleh4tprpq3oesuuqvatfo7lii50'\n",
    "api = keepa.Keepa(accesskey)"
   ]
  },
  {
   "cell_type": "code",
   "execution_count": 3,
   "metadata": {},
   "outputs": [],
   "source": [
    "#Historical data retrieved from keepa are in dataframe format, sometimes with multiple observations for each date\n",
    "#Sicne amazone does not provide information of time in review, a simple average was used to calculated\n",
    "def transform_df(df):\n",
    "    t_df = df\n",
    "    try:\n",
    "        t_df.index = df.index.strftime('%Y-%m-%d')\n",
    "    except:\n",
    "        print('date already formatted')\n",
    "#-1 means missing. This is removed first\n",
    "    t_df = t_df[t_df.value != -1]\n",
    "    t_df = t_df.groupby(t_df.index).mean()\n",
    "    return t_df"
   ]
  },
  {
   "cell_type": "code",
   "execution_count": 5,
   "metadata": {},
   "outputs": [],
   "source": [
    "def retrieve_data(asin, products):\n",
    "    if len(products[0]['data']) != 0:\n",
    "        #price cheapest new offering\n",
    "        price_new_history = transform_df(products[0]['data']['df_NEW']).rename({'value' : 'price_new'}, axis=1)\n",
    "        #price cheapest used product offering\n",
    "        price_used_history = transform_df(products[0]['data']['df_USED']).rename({'value' : 'price_used'}, axis=1)\n",
    "        #Star ratings\n",
    "        try:\n",
    "            rating_history = transform_df(products[0]['data']['df_RATING']).rename({'value' : 'rating'}, axis=1)\n",
    "        except:\n",
    "            rating_history = pd.DataFrame({'rating' : None}, index=[date.today()])\n",
    "        #Number of reviews\n",
    "        try:\n",
    "            review_history = transform_df(products[0]['data']['df_COUNT_REVIEWS']).rename({'value' : 'reviews'}, axis=1)\n",
    "        except:\n",
    "            review_history = pd.DataFrame({'reviews' : None}, index=[date.today()])\n",
    "        #Merge everything with outer joins\n",
    "        df = price_new_history.merge(price_used_history, right_index = True, left_index = True, how = \"outer\").merge(\n",
    "        rating_history, right_index = True, left_index = True, how = \"outer\").merge(\n",
    "        review_history, right_index = True, left_index = True, how = \"outer\")\n",
    "    #If there's no historical data\n",
    "    else:\n",
    "        df = pd.DataFrame({'price_new':products[0]['stats']['avg'][1], \n",
    "                           'price_used' : products[0]['stats']['avg'][2], \n",
    "                           'rating' : None, \n",
    "                           'reviews' : None}, index=[date.today()])\n",
    "    df[\"asin\"] = asin\n",
    "    #Out of stock new products\n",
    "    df[\"oos_new\"] = products[0]['stats'][\"outOfStockPercentageInInterval\"][1]\n",
    "    #Out of stock used products\n",
    "    df[\"oos_used\"] = products[0]['stats'][\"outOfStockPercentageInInterval\"][2]\n",
    "    #Number of keepa minutes since product was listed\n",
    "    df[\"listed_since\"] = products[0]['listedSince']\n",
    "    df.index = pd.to_datetime(df.index)\n",
    "    #df = df.interpolate(method='time')\n",
    "    return df"
   ]
  },
  {
   "cell_type": "code",
   "execution_count": 6,
   "metadata": {},
   "outputs": [],
   "source": [
    "#import data from csv file\n",
    "data = pd.read_csv('../../gen/input/amazon_search_hedonic_clean.csv', sep = \";\")\n",
    "asins = data['asin'].unique()"
   ]
  },
  {
   "cell_type": "code",
   "execution_count": 34,
   "metadata": {},
   "outputs": [],
   "source": [
    "#with open(f\"../../gen/input/api_info.csv\", \"w\", encoding = \"UTF-8\", newline = '') as csv_file:\n",
    "    writer = csv.writer(csv_file, delimiter = \";\")\n",
    "    writer.writerow([\"date\", \"price_new\", \"price_used\", \"rating\", \"reviews\", \"asin\", \"oos_new\", \"oos_used\", \"listed_since\"])"
   ]
  },
  {
   "cell_type": "code",
   "execution_count": 61,
   "metadata": {},
   "outputs": [
    {
     "name": "stdout",
     "output_type": "stream",
     "text": [
      "2291\n",
      "223\n"
     ]
    },
    {
     "data": {
      "text/plain": [
       "2068"
      ]
     },
     "execution_count": 61,
     "metadata": {},
     "output_type": "execute_result"
    }
   ],
   "source": [
    "data_so_far = pd.read_csv(f\"../../gen/input/api_info.csv\", sep = \";\")\n",
    "asins_so_far = data_so_far['asin'].unique()\n",
    "\n",
    "print(len(asins))\n",
    "print(len(asins_so_far))\n",
    "asins_left = list(set(asins) - set(asins_so_far))\n",
    "len(asins_left)\n"
   ]
  },
  {
   "cell_type": "code",
   "execution_count": 65,
   "metadata": {},
   "outputs": [
    {
     "data": {
      "text/plain": [
       "26"
      ]
     },
     "execution_count": 65,
     "metadata": {},
     "output_type": "execute_result"
    }
   ],
   "source": [
    "#get number of tokens left\n",
    "round((api.tokens_left/2))"
   ]
  },
  {
   "cell_type": "code",
   "execution_count": 14,
   "metadata": {},
   "outputs": [
    {
     "name": "stdout",
     "output_type": "stream",
     "text": [
      "2291\n",
      "626\n",
      "1665\n",
      "tokens left:  90\n",
      "B0C5CTHCD3\n"
     ]
    },
    {
     "name": "stderr",
     "output_type": "stream",
     "text": [
      "100%|██████████| 1/1 [00:00<00:00,  3.28it/s]\n"
     ]
    },
    {
     "name": "stdout",
     "output_type": "stream",
     "text": [
      "B099RP92P5\n"
     ]
    },
    {
     "name": "stderr",
     "output_type": "stream",
     "text": [
      "100%|██████████| 1/1 [00:01<00:00,  1.42s/it]\n"
     ]
    },
    {
     "name": "stdout",
     "output_type": "stream",
     "text": [
      "B071HP7795\n"
     ]
    },
    {
     "name": "stderr",
     "output_type": "stream",
     "text": [
      "100%|██████████| 1/1 [00:04<00:00,  4.30s/it]\n"
     ]
    },
    {
     "name": "stdout",
     "output_type": "stream",
     "text": [
      "B0CX8QQKCQ\n"
     ]
    },
    {
     "name": "stderr",
     "output_type": "stream",
     "text": [
      "100%|██████████| 1/1 [00:03<00:00,  3.03s/it]\n"
     ]
    },
    {
     "name": "stdout",
     "output_type": "stream",
     "text": [
      "B085VMW9YD\n"
     ]
    },
    {
     "name": "stderr",
     "output_type": "stream",
     "text": [
      "100%|██████████| 1/1 [00:01<00:00,  1.42s/it]\n"
     ]
    },
    {
     "name": "stdout",
     "output_type": "stream",
     "text": [
      "B09CBSS3BX\n"
     ]
    },
    {
     "name": "stderr",
     "output_type": "stream",
     "text": [
      "100%|██████████| 1/1 [00:01<00:00,  1.66s/it]\n"
     ]
    },
    {
     "name": "stdout",
     "output_type": "stream",
     "text": [
      "B07F462B2D\n"
     ]
    },
    {
     "name": "stderr",
     "output_type": "stream",
     "text": [
      "100%|██████████| 1/1 [00:03<00:00,  3.93s/it]\n"
     ]
    },
    {
     "name": "stdout",
     "output_type": "stream",
     "text": [
      "B0B1V2K781\n"
     ]
    },
    {
     "name": "stderr",
     "output_type": "stream",
     "text": [
      "100%|██████████| 1/1 [00:02<00:00,  2.21s/it]\n"
     ]
    },
    {
     "name": "stdout",
     "output_type": "stream",
     "text": [
      "B07FQTKNP7\n"
     ]
    },
    {
     "name": "stderr",
     "output_type": "stream",
     "text": [
      "100%|██████████| 1/1 [00:03<00:00,  3.18s/it]\n"
     ]
    },
    {
     "name": "stdout",
     "output_type": "stream",
     "text": [
      "B010RX8GVY\n"
     ]
    },
    {
     "name": "stderr",
     "output_type": "stream",
     "text": [
      "100%|██████████| 1/1 [00:02<00:00,  2.32s/it]\n"
     ]
    },
    {
     "name": "stdout",
     "output_type": "stream",
     "text": [
      "10\n",
      "B0CXJ3W255\n"
     ]
    },
    {
     "name": "stderr",
     "output_type": "stream",
     "text": [
      "100%|██████████| 1/1 [00:02<00:00,  2.05s/it]\n"
     ]
    },
    {
     "name": "stdout",
     "output_type": "stream",
     "text": [
      "B0CYGSRNM2\n"
     ]
    },
    {
     "name": "stderr",
     "output_type": "stream",
     "text": [
      "100%|██████████| 1/1 [00:04<00:00,  4.35s/it]\n"
     ]
    },
    {
     "name": "stdout",
     "output_type": "stream",
     "text": [
      "B0CT3L4MWQ\n"
     ]
    },
    {
     "name": "stderr",
     "output_type": "stream",
     "text": [
      "100%|██████████| 1/1 [00:02<00:00,  2.69s/it]\n"
     ]
    },
    {
     "name": "stdout",
     "output_type": "stream",
     "text": [
      "B07KKCYT6L\n"
     ]
    },
    {
     "name": "stderr",
     "output_type": "stream",
     "text": [
      "100%|██████████| 1/1 [00:03<00:00,  3.41s/it]\n"
     ]
    },
    {
     "name": "stdout",
     "output_type": "stream",
     "text": [
      "B0CNV1QT4Y\n"
     ]
    },
    {
     "name": "stderr",
     "output_type": "stream",
     "text": [
      "100%|██████████| 1/1 [00:02<00:00,  2.24s/it]\n"
     ]
    },
    {
     "name": "stdout",
     "output_type": "stream",
     "text": [
      "B000SJM84E\n"
     ]
    },
    {
     "name": "stderr",
     "output_type": "stream",
     "text": [
      "100%|██████████| 1/1 [00:03<00:00,  3.83s/it]\n"
     ]
    },
    {
     "name": "stdout",
     "output_type": "stream",
     "text": [
      "B08PMJ9PWL\n"
     ]
    },
    {
     "name": "stderr",
     "output_type": "stream",
     "text": [
      "100%|██████████| 1/1 [00:05<00:00,  5.22s/it]\n"
     ]
    },
    {
     "name": "stdout",
     "output_type": "stream",
     "text": [
      "B01JSBRT00\n"
     ]
    },
    {
     "name": "stderr",
     "output_type": "stream",
     "text": [
      "100%|██████████| 1/1 [00:04<00:00,  4.40s/it]\n"
     ]
    },
    {
     "name": "stdout",
     "output_type": "stream",
     "text": [
      "B0BZCM5RC2\n"
     ]
    },
    {
     "name": "stderr",
     "output_type": "stream",
     "text": [
      "100%|██████████| 1/1 [00:02<00:00,  2.66s/it]\n"
     ]
    },
    {
     "name": "stdout",
     "output_type": "stream",
     "text": [
      "B0CW1QG9CZ\n"
     ]
    },
    {
     "name": "stderr",
     "output_type": "stream",
     "text": [
      "100%|██████████| 1/1 [00:02<00:00,  2.35s/it]\n"
     ]
    },
    {
     "name": "stdout",
     "output_type": "stream",
     "text": [
      "20\n",
      "B0C8CKXXP5\n"
     ]
    },
    {
     "name": "stderr",
     "output_type": "stream",
     "text": [
      "100%|██████████| 1/1 [00:02<00:00,  2.27s/it]\n"
     ]
    },
    {
     "name": "stdout",
     "output_type": "stream",
     "text": [
      "B0CNS6XCK7\n"
     ]
    },
    {
     "name": "stderr",
     "output_type": "stream",
     "text": [
      "100%|██████████| 1/1 [00:01<00:00,  1.65s/it]\n"
     ]
    },
    {
     "name": "stdout",
     "output_type": "stream",
     "text": [
      "B0CRYNTZH4\n"
     ]
    },
    {
     "name": "stderr",
     "output_type": "stream",
     "text": [
      "100%|██████████| 1/1 [00:02<00:00,  2.87s/it]\n"
     ]
    },
    {
     "name": "stdout",
     "output_type": "stream",
     "text": [
      "B09418X7Y4\n"
     ]
    },
    {
     "name": "stderr",
     "output_type": "stream",
     "text": [
      "100%|██████████| 1/1 [00:02<00:00,  2.22s/it]\n"
     ]
    },
    {
     "name": "stdout",
     "output_type": "stream",
     "text": [
      "B0CSDY6LJ8\n"
     ]
    },
    {
     "name": "stderr",
     "output_type": "stream",
     "text": [
      "100%|██████████| 1/1 [00:00<00:00,  2.81it/s]\n"
     ]
    },
    {
     "name": "stdout",
     "output_type": "stream",
     "text": [
      "B0CT1GG18Z\n"
     ]
    },
    {
     "name": "stderr",
     "output_type": "stream",
     "text": [
      "100%|██████████| 1/1 [00:01<00:00,  1.36s/it]\n"
     ]
    },
    {
     "name": "stdout",
     "output_type": "stream",
     "text": [
      "B0CLCQZX32\n"
     ]
    },
    {
     "name": "stderr",
     "output_type": "stream",
     "text": [
      "100%|██████████| 1/1 [00:01<00:00,  1.15s/it]\n"
     ]
    },
    {
     "name": "stdout",
     "output_type": "stream",
     "text": [
      "B09SBD92J8\n"
     ]
    },
    {
     "name": "stderr",
     "output_type": "stream",
     "text": [
      "100%|██████████| 1/1 [00:03<00:00,  3.96s/it]\n"
     ]
    },
    {
     "name": "stdout",
     "output_type": "stream",
     "text": [
      "B0CSFGYKK2\n"
     ]
    },
    {
     "name": "stderr",
     "output_type": "stream",
     "text": [
      "100%|██████████| 1/1 [00:02<00:00,  2.51s/it]\n"
     ]
    },
    {
     "name": "stdout",
     "output_type": "stream",
     "text": [
      "B0BSB3WSLB\n"
     ]
    },
    {
     "name": "stderr",
     "output_type": "stream",
     "text": [
      "100%|██████████| 1/1 [00:04<00:00,  4.57s/it]\n"
     ]
    },
    {
     "name": "stdout",
     "output_type": "stream",
     "text": [
      "30\n",
      "B0CNRRSJ5Y\n"
     ]
    },
    {
     "name": "stderr",
     "output_type": "stream",
     "text": [
      "100%|██████████| 1/1 [00:02<00:00,  2.30s/it]\n"
     ]
    },
    {
     "name": "stdout",
     "output_type": "stream",
     "text": [
      "B0CRBJXGQM\n"
     ]
    },
    {
     "name": "stderr",
     "output_type": "stream",
     "text": [
      "100%|██████████| 1/1 [00:02<00:00,  2.88s/it]\n"
     ]
    },
    {
     "name": "stdout",
     "output_type": "stream",
     "text": [
      "B00MVVIMFG\n"
     ]
    },
    {
     "name": "stderr",
     "output_type": "stream",
     "text": [
      "100%|██████████| 1/1 [00:00<00:00,  1.49it/s]\n"
     ]
    },
    {
     "name": "stdout",
     "output_type": "stream",
     "text": [
      "B09576W5D5\n"
     ]
    },
    {
     "name": "stderr",
     "output_type": "stream",
     "text": [
      "100%|██████████| 1/1 [00:01<00:00,  1.87s/it]\n"
     ]
    },
    {
     "name": "stdout",
     "output_type": "stream",
     "text": [
      "B00CO9VLLW\n"
     ]
    },
    {
     "name": "stderr",
     "output_type": "stream",
     "text": [
      "100%|██████████| 1/1 [00:00<00:00,  1.12it/s]\n"
     ]
    },
    {
     "name": "stdout",
     "output_type": "stream",
     "text": [
      "B088R7S66W\n"
     ]
    },
    {
     "name": "stderr",
     "output_type": "stream",
     "text": [
      "100%|██████████| 1/1 [00:00<00:00,  1.28it/s]\n"
     ]
    },
    {
     "name": "stdout",
     "output_type": "stream",
     "text": [
      "B0BVZN2KT4\n"
     ]
    },
    {
     "name": "stderr",
     "output_type": "stream",
     "text": [
      "100%|██████████| 1/1 [00:01<00:00,  1.01s/it]\n"
     ]
    },
    {
     "name": "stdout",
     "output_type": "stream",
     "text": [
      "B0BBXLNT3C\n"
     ]
    },
    {
     "name": "stderr",
     "output_type": "stream",
     "text": [
      "100%|██████████| 1/1 [00:02<00:00,  2.62s/it]\n"
     ]
    },
    {
     "name": "stdout",
     "output_type": "stream",
     "text": [
      "B00NXRHIO8\n"
     ]
    },
    {
     "name": "stderr",
     "output_type": "stream",
     "text": [
      "100%|██████████| 1/1 [00:00<00:00,  2.67it/s]\n"
     ]
    },
    {
     "name": "stdout",
     "output_type": "stream",
     "text": [
      "B0CSH564KV\n"
     ]
    },
    {
     "name": "stderr",
     "output_type": "stream",
     "text": [
      "100%|██████████| 1/1 [00:01<00:00,  1.50s/it]\n"
     ]
    },
    {
     "name": "stdout",
     "output_type": "stream",
     "text": [
      "40\n",
      "B0CJ6WX6GB\n"
     ]
    },
    {
     "name": "stderr",
     "output_type": "stream",
     "text": [
      "100%|██████████| 1/1 [00:01<00:00,  1.99s/it]\n"
     ]
    },
    {
     "name": "stdout",
     "output_type": "stream",
     "text": [
      "B0B1MFZYG1\n"
     ]
    },
    {
     "name": "stderr",
     "output_type": "stream",
     "text": [
      "100%|██████████| 1/1 [00:04<00:00,  4.30s/it]\n"
     ]
    },
    {
     "name": "stdout",
     "output_type": "stream",
     "text": [
      "B0CQR6MKVP\n"
     ]
    },
    {
     "name": "stderr",
     "output_type": "stream",
     "text": [
      "100%|██████████| 1/1 [00:04<00:00,  4.36s/it]\n"
     ]
    },
    {
     "name": "stdout",
     "output_type": "stream",
     "text": [
      "B085KV85F1\n"
     ]
    },
    {
     "name": "stderr",
     "output_type": "stream",
     "text": [
      "100%|██████████| 1/1 [00:04<00:00,  4.57s/it]\n"
     ]
    },
    {
     "name": "stdout",
     "output_type": "stream",
     "text": [
      "B01MQZ2023\n"
     ]
    },
    {
     "name": "stderr",
     "output_type": "stream",
     "text": [
      "100%|██████████| 1/1 [00:03<00:00,  3.26s/it]\n"
     ]
    },
    {
     "name": "stdout",
     "output_type": "stream",
     "text": [
      "B08GYZYNM8\n"
     ]
    },
    {
     "name": "stderr",
     "output_type": "stream",
     "text": [
      "100%|██████████| 1/1 [00:02<00:00,  2.18s/it]\n"
     ]
    },
    {
     "name": "stdout",
     "output_type": "stream",
     "text": [
      "B0BX4MQH3G\n"
     ]
    },
    {
     "name": "stderr",
     "output_type": "stream",
     "text": [
      "100%|██████████| 1/1 [00:02<00:00,  2.20s/it]\n"
     ]
    },
    {
     "name": "stdout",
     "output_type": "stream",
     "text": [
      "B0CNS5KR56\n"
     ]
    },
    {
     "name": "stderr",
     "output_type": "stream",
     "text": [
      "100%|██████████| 1/1 [00:03<00:00,  3.06s/it]\n"
     ]
    },
    {
     "name": "stdout",
     "output_type": "stream",
     "text": [
      "B0CQ9SZJN6\n"
     ]
    },
    {
     "name": "stderr",
     "output_type": "stream",
     "text": [
      "100%|██████████| 1/1 [00:04<00:00,  4.44s/it]\n"
     ]
    }
   ],
   "source": [
    "data_so_far = pd.read_csv(f\"../../gen/input/api_info.csv\", sep = \";\")\n",
    "asins_so_far = data_so_far['asin'].unique()\n",
    "\n",
    "print(len(asins))\n",
    "print(len(asins_so_far))\n",
    "asins_left = list(set(asins) - set(asins_so_far))\n",
    "print(len(asins_left))\n",
    "\n",
    "i = 0\n",
    "tokens_left = api.tokens_left\n",
    "print(\"tokens left: \", tokens_left)\n",
    "for asin in asins_left[1:round(((tokens_left*1.1)/2))]:\n",
    "    print(asin)\n",
    "    products = api.query(asin, stats = 3650, history = 1, rating = 1)\n",
    "    df = retrieve_data(asin, products)\n",
    "    #df1 = df.interpolate(method='time')\n",
    "    #df2 = df1.fillna(method='bfill')\n",
    "    df.to_csv(f\"../../gen/input/api_info.csv\", mode = \"a\", sep = \";\", header = False)\n",
    "    i += 1\n",
    "    if i % 10 == 0:\n",
    "        print(i)\n",
    "    time.sleep(0.3)"
   ]
  },
  {
   "cell_type": "markdown",
   "metadata": {},
   "source": [
    "# testser"
   ]
  },
  {
   "cell_type": "code",
   "execution_count": null,
   "metadata": {},
   "outputs": [],
   "source": [
    "products = api.query(\"B09BFSCCNB\", stats = 3650, history = 1, rating = 1, stock = 1)"
   ]
  },
  {
   "cell_type": "code",
   "execution_count": 10,
   "metadata": {},
   "outputs": [],
   "source": [
    "df = retrieve_data(\"B09BFSCCNB\", products)"
   ]
  },
  {
   "cell_type": "code",
   "execution_count": 11,
   "metadata": {},
   "outputs": [
    {
     "data": {
      "text/html": [
       "<div>\n",
       "<style scoped>\n",
       "    .dataframe tbody tr th:only-of-type {\n",
       "        vertical-align: middle;\n",
       "    }\n",
       "\n",
       "    .dataframe tbody tr th {\n",
       "        vertical-align: top;\n",
       "    }\n",
       "\n",
       "    .dataframe thead th {\n",
       "        text-align: right;\n",
       "    }\n",
       "</style>\n",
       "<table border=\"1\" class=\"dataframe\">\n",
       "  <thead>\n",
       "    <tr style=\"text-align: right;\">\n",
       "      <th></th>\n",
       "      <th>price_new</th>\n",
       "      <th>price_used</th>\n",
       "      <th>rating</th>\n",
       "      <th>reviews</th>\n",
       "      <th>asin</th>\n",
       "      <th>oos_new</th>\n",
       "      <th>oos_used</th>\n",
       "      <th>listed_since</th>\n",
       "    </tr>\n",
       "  </thead>\n",
       "  <tbody>\n",
       "    <tr>\n",
       "      <th>2021-07-29</th>\n",
       "      <td>NaN</td>\n",
       "      <td>NaN</td>\n",
       "      <td>NaN</td>\n",
       "      <td>NaN</td>\n",
       "      <td>B09BFSCCNB</td>\n",
       "      <td>17</td>\n",
       "      <td>25</td>\n",
       "      <td>5800320</td>\n",
       "    </tr>\n",
       "    <tr>\n",
       "      <th>2022-01-11</th>\n",
       "      <td>769.99</td>\n",
       "      <td>NaN</td>\n",
       "      <td>NaN</td>\n",
       "      <td>NaN</td>\n",
       "      <td>B09BFSCCNB</td>\n",
       "      <td>17</td>\n",
       "      <td>25</td>\n",
       "      <td>5800320</td>\n",
       "    </tr>\n",
       "    <tr>\n",
       "      <th>2022-01-13</th>\n",
       "      <td>NaN</td>\n",
       "      <td>NaN</td>\n",
       "      <td>4.6</td>\n",
       "      <td>7896.666667</td>\n",
       "      <td>B09BFSCCNB</td>\n",
       "      <td>17</td>\n",
       "      <td>25</td>\n",
       "      <td>5800320</td>\n",
       "    </tr>\n",
       "    <tr>\n",
       "      <th>2022-01-14</th>\n",
       "      <td>NaN</td>\n",
       "      <td>NaN</td>\n",
       "      <td>NaN</td>\n",
       "      <td>7909.666667</td>\n",
       "      <td>B09BFSCCNB</td>\n",
       "      <td>17</td>\n",
       "      <td>25</td>\n",
       "      <td>5800320</td>\n",
       "    </tr>\n",
       "    <tr>\n",
       "      <th>2022-01-15</th>\n",
       "      <td>NaN</td>\n",
       "      <td>NaN</td>\n",
       "      <td>NaN</td>\n",
       "      <td>7920.750000</td>\n",
       "      <td>B09BFSCCNB</td>\n",
       "      <td>17</td>\n",
       "      <td>25</td>\n",
       "      <td>5800320</td>\n",
       "    </tr>\n",
       "    <tr>\n",
       "      <th>...</th>\n",
       "      <td>...</td>\n",
       "      <td>...</td>\n",
       "      <td>...</td>\n",
       "      <td>...</td>\n",
       "      <td>...</td>\n",
       "      <td>...</td>\n",
       "      <td>...</td>\n",
       "      <td>...</td>\n",
       "    </tr>\n",
       "    <tr>\n",
       "      <th>2024-04-25</th>\n",
       "      <td>583.94</td>\n",
       "      <td>NaN</td>\n",
       "      <td>NaN</td>\n",
       "      <td>14758.000000</td>\n",
       "      <td>B09BFSCCNB</td>\n",
       "      <td>17</td>\n",
       "      <td>25</td>\n",
       "      <td>5800320</td>\n",
       "    </tr>\n",
       "    <tr>\n",
       "      <th>2024-04-26</th>\n",
       "      <td>589.02</td>\n",
       "      <td>NaN</td>\n",
       "      <td>NaN</td>\n",
       "      <td>14759.500000</td>\n",
       "      <td>B09BFSCCNB</td>\n",
       "      <td>17</td>\n",
       "      <td>25</td>\n",
       "      <td>5800320</td>\n",
       "    </tr>\n",
       "    <tr>\n",
       "      <th>2024-04-27</th>\n",
       "      <td>NaN</td>\n",
       "      <td>346.84</td>\n",
       "      <td>NaN</td>\n",
       "      <td>NaN</td>\n",
       "      <td>B09BFSCCNB</td>\n",
       "      <td>17</td>\n",
       "      <td>25</td>\n",
       "      <td>5800320</td>\n",
       "    </tr>\n",
       "    <tr>\n",
       "      <th>2024-04-28</th>\n",
       "      <td>677.03</td>\n",
       "      <td>368.13</td>\n",
       "      <td>NaN</td>\n",
       "      <td>14760.000000</td>\n",
       "      <td>B09BFSCCNB</td>\n",
       "      <td>17</td>\n",
       "      <td>25</td>\n",
       "      <td>5800320</td>\n",
       "    </tr>\n",
       "    <tr>\n",
       "      <th>2024-04-29</th>\n",
       "      <td>NaN</td>\n",
       "      <td>NaN</td>\n",
       "      <td>NaN</td>\n",
       "      <td>14761.000000</td>\n",
       "      <td>B09BFSCCNB</td>\n",
       "      <td>17</td>\n",
       "      <td>25</td>\n",
       "      <td>5800320</td>\n",
       "    </tr>\n",
       "  </tbody>\n",
       "</table>\n",
       "<p>809 rows × 8 columns</p>\n",
       "</div>"
      ],
      "text/plain": [
       "            price_new  price_used  rating       reviews        asin  oos_new  \\\n",
       "2021-07-29        NaN         NaN     NaN           NaN  B09BFSCCNB       17   \n",
       "2022-01-11     769.99         NaN     NaN           NaN  B09BFSCCNB       17   \n",
       "2022-01-13        NaN         NaN     4.6   7896.666667  B09BFSCCNB       17   \n",
       "2022-01-14        NaN         NaN     NaN   7909.666667  B09BFSCCNB       17   \n",
       "2022-01-15        NaN         NaN     NaN   7920.750000  B09BFSCCNB       17   \n",
       "...               ...         ...     ...           ...         ...      ...   \n",
       "2024-04-25     583.94         NaN     NaN  14758.000000  B09BFSCCNB       17   \n",
       "2024-04-26     589.02         NaN     NaN  14759.500000  B09BFSCCNB       17   \n",
       "2024-04-27        NaN      346.84     NaN           NaN  B09BFSCCNB       17   \n",
       "2024-04-28     677.03      368.13     NaN  14760.000000  B09BFSCCNB       17   \n",
       "2024-04-29        NaN         NaN     NaN  14761.000000  B09BFSCCNB       17   \n",
       "\n",
       "            oos_used  listed_since  \n",
       "2021-07-29        25       5800320  \n",
       "2022-01-11        25       5800320  \n",
       "2022-01-13        25       5800320  \n",
       "2022-01-14        25       5800320  \n",
       "2022-01-15        25       5800320  \n",
       "...              ...           ...  \n",
       "2024-04-25        25       5800320  \n",
       "2024-04-26        25       5800320  \n",
       "2024-04-27        25       5800320  \n",
       "2024-04-28        25       5800320  \n",
       "2024-04-29        25       5800320  \n",
       "\n",
       "[809 rows x 8 columns]"
      ]
     },
     "execution_count": 11,
     "metadata": {},
     "output_type": "execute_result"
    }
   ],
   "source": [
    "df"
   ]
  },
  {
   "cell_type": "code",
   "execution_count": 12,
   "metadata": {},
   "outputs": [],
   "source": [
    "#linearly interpolate missing values in df\n",
    "df1 = df.interpolate(method='time')"
   ]
  },
  {
   "cell_type": "code",
   "execution_count": 16,
   "metadata": {},
   "outputs": [
    {
     "data": {
      "text/html": [
       "<div>\n",
       "<style scoped>\n",
       "    .dataframe tbody tr th:only-of-type {\n",
       "        vertical-align: middle;\n",
       "    }\n",
       "\n",
       "    .dataframe tbody tr th {\n",
       "        vertical-align: top;\n",
       "    }\n",
       "\n",
       "    .dataframe thead th {\n",
       "        text-align: right;\n",
       "    }\n",
       "</style>\n",
       "<table border=\"1\" class=\"dataframe\">\n",
       "  <thead>\n",
       "    <tr style=\"text-align: right;\">\n",
       "      <th></th>\n",
       "      <th>price_new</th>\n",
       "      <th>price_used</th>\n",
       "      <th>rating</th>\n",
       "      <th>reviews</th>\n",
       "      <th>asin</th>\n",
       "      <th>oos_new</th>\n",
       "      <th>oos_used</th>\n",
       "      <th>listed_since</th>\n",
       "    </tr>\n",
       "  </thead>\n",
       "  <tbody>\n",
       "    <tr>\n",
       "      <th>2021-07-29</th>\n",
       "      <td>NaN</td>\n",
       "      <td>NaN</td>\n",
       "      <td>NaN</td>\n",
       "      <td>NaN</td>\n",
       "      <td>B09BFSCCNB</td>\n",
       "      <td>17</td>\n",
       "      <td>25</td>\n",
       "      <td>5800320</td>\n",
       "    </tr>\n",
       "    <tr>\n",
       "      <th>2022-01-11</th>\n",
       "      <td>769.990</td>\n",
       "      <td>NaN</td>\n",
       "      <td>NaN</td>\n",
       "      <td>NaN</td>\n",
       "      <td>B09BFSCCNB</td>\n",
       "      <td>17</td>\n",
       "      <td>25</td>\n",
       "      <td>5800320</td>\n",
       "    </tr>\n",
       "    <tr>\n",
       "      <th>2022-01-13</th>\n",
       "      <td>759.990</td>\n",
       "      <td>NaN</td>\n",
       "      <td>4.6</td>\n",
       "      <td>7896.666667</td>\n",
       "      <td>B09BFSCCNB</td>\n",
       "      <td>17</td>\n",
       "      <td>25</td>\n",
       "      <td>5800320</td>\n",
       "    </tr>\n",
       "    <tr>\n",
       "      <th>2022-01-14</th>\n",
       "      <td>754.990</td>\n",
       "      <td>NaN</td>\n",
       "      <td>4.6</td>\n",
       "      <td>7909.666667</td>\n",
       "      <td>B09BFSCCNB</td>\n",
       "      <td>17</td>\n",
       "      <td>25</td>\n",
       "      <td>5800320</td>\n",
       "    </tr>\n",
       "    <tr>\n",
       "      <th>2022-01-15</th>\n",
       "      <td>749.990</td>\n",
       "      <td>NaN</td>\n",
       "      <td>4.6</td>\n",
       "      <td>7920.750000</td>\n",
       "      <td>B09BFSCCNB</td>\n",
       "      <td>17</td>\n",
       "      <td>25</td>\n",
       "      <td>5800320</td>\n",
       "    </tr>\n",
       "    <tr>\n",
       "      <th>...</th>\n",
       "      <td>...</td>\n",
       "      <td>...</td>\n",
       "      <td>...</td>\n",
       "      <td>...</td>\n",
       "      <td>...</td>\n",
       "      <td>...</td>\n",
       "      <td>...</td>\n",
       "      <td>...</td>\n",
       "    </tr>\n",
       "    <tr>\n",
       "      <th>2024-04-25</th>\n",
       "      <td>583.940</td>\n",
       "      <td>336.1950</td>\n",
       "      <td>4.5</td>\n",
       "      <td>14758.000000</td>\n",
       "      <td>B09BFSCCNB</td>\n",
       "      <td>17</td>\n",
       "      <td>25</td>\n",
       "      <td>5800320</td>\n",
       "    </tr>\n",
       "    <tr>\n",
       "      <th>2024-04-26</th>\n",
       "      <td>589.020</td>\n",
       "      <td>341.5175</td>\n",
       "      <td>4.5</td>\n",
       "      <td>14759.500000</td>\n",
       "      <td>B09BFSCCNB</td>\n",
       "      <td>17</td>\n",
       "      <td>25</td>\n",
       "      <td>5800320</td>\n",
       "    </tr>\n",
       "    <tr>\n",
       "      <th>2024-04-27</th>\n",
       "      <td>633.025</td>\n",
       "      <td>346.8400</td>\n",
       "      <td>4.5</td>\n",
       "      <td>14759.750000</td>\n",
       "      <td>B09BFSCCNB</td>\n",
       "      <td>17</td>\n",
       "      <td>25</td>\n",
       "      <td>5800320</td>\n",
       "    </tr>\n",
       "    <tr>\n",
       "      <th>2024-04-28</th>\n",
       "      <td>677.030</td>\n",
       "      <td>368.1300</td>\n",
       "      <td>4.5</td>\n",
       "      <td>14760.000000</td>\n",
       "      <td>B09BFSCCNB</td>\n",
       "      <td>17</td>\n",
       "      <td>25</td>\n",
       "      <td>5800320</td>\n",
       "    </tr>\n",
       "    <tr>\n",
       "      <th>2024-04-29</th>\n",
       "      <td>677.030</td>\n",
       "      <td>368.1300</td>\n",
       "      <td>4.5</td>\n",
       "      <td>14761.000000</td>\n",
       "      <td>B09BFSCCNB</td>\n",
       "      <td>17</td>\n",
       "      <td>25</td>\n",
       "      <td>5800320</td>\n",
       "    </tr>\n",
       "  </tbody>\n",
       "</table>\n",
       "<p>809 rows × 8 columns</p>\n",
       "</div>"
      ],
      "text/plain": [
       "            price_new  price_used  rating       reviews        asin  oos_new  \\\n",
       "2021-07-29        NaN         NaN     NaN           NaN  B09BFSCCNB       17   \n",
       "2022-01-11    769.990         NaN     NaN           NaN  B09BFSCCNB       17   \n",
       "2022-01-13    759.990         NaN     4.6   7896.666667  B09BFSCCNB       17   \n",
       "2022-01-14    754.990         NaN     4.6   7909.666667  B09BFSCCNB       17   \n",
       "2022-01-15    749.990         NaN     4.6   7920.750000  B09BFSCCNB       17   \n",
       "...               ...         ...     ...           ...         ...      ...   \n",
       "2024-04-25    583.940    336.1950     4.5  14758.000000  B09BFSCCNB       17   \n",
       "2024-04-26    589.020    341.5175     4.5  14759.500000  B09BFSCCNB       17   \n",
       "2024-04-27    633.025    346.8400     4.5  14759.750000  B09BFSCCNB       17   \n",
       "2024-04-28    677.030    368.1300     4.5  14760.000000  B09BFSCCNB       17   \n",
       "2024-04-29    677.030    368.1300     4.5  14761.000000  B09BFSCCNB       17   \n",
       "\n",
       "            oos_used  listed_since  \n",
       "2021-07-29        25       5800320  \n",
       "2022-01-11        25       5800320  \n",
       "2022-01-13        25       5800320  \n",
       "2022-01-14        25       5800320  \n",
       "2022-01-15        25       5800320  \n",
       "...              ...           ...  \n",
       "2024-04-25        25       5800320  \n",
       "2024-04-26        25       5800320  \n",
       "2024-04-27        25       5800320  \n",
       "2024-04-28        25       5800320  \n",
       "2024-04-29        25       5800320  \n",
       "\n",
       "[809 rows x 8 columns]"
      ]
     },
     "execution_count": 16,
     "metadata": {},
     "output_type": "execute_result"
    }
   ],
   "source": [
    "df1"
   ]
  },
  {
   "cell_type": "code",
   "execution_count": 17,
   "metadata": {},
   "outputs": [],
   "source": [
    "#backwards fill missing values in df\n",
    "df2 = df1.fillna(method='bfill')"
   ]
  },
  {
   "cell_type": "code",
   "execution_count": 18,
   "metadata": {},
   "outputs": [
    {
     "data": {
      "text/html": [
       "<div>\n",
       "<style scoped>\n",
       "    .dataframe tbody tr th:only-of-type {\n",
       "        vertical-align: middle;\n",
       "    }\n",
       "\n",
       "    .dataframe tbody tr th {\n",
       "        vertical-align: top;\n",
       "    }\n",
       "\n",
       "    .dataframe thead th {\n",
       "        text-align: right;\n",
       "    }\n",
       "</style>\n",
       "<table border=\"1\" class=\"dataframe\">\n",
       "  <thead>\n",
       "    <tr style=\"text-align: right;\">\n",
       "      <th></th>\n",
       "      <th>price_new</th>\n",
       "      <th>price_used</th>\n",
       "      <th>rating</th>\n",
       "      <th>reviews</th>\n",
       "      <th>asin</th>\n",
       "      <th>oos_new</th>\n",
       "      <th>oos_used</th>\n",
       "      <th>listed_since</th>\n",
       "    </tr>\n",
       "  </thead>\n",
       "  <tbody>\n",
       "    <tr>\n",
       "      <th>2021-07-29</th>\n",
       "      <td>769.990</td>\n",
       "      <td>615.9900</td>\n",
       "      <td>4.6</td>\n",
       "      <td>7896.666667</td>\n",
       "      <td>B09BFSCCNB</td>\n",
       "      <td>17</td>\n",
       "      <td>25</td>\n",
       "      <td>5800320</td>\n",
       "    </tr>\n",
       "    <tr>\n",
       "      <th>2022-01-11</th>\n",
       "      <td>769.990</td>\n",
       "      <td>615.9900</td>\n",
       "      <td>4.6</td>\n",
       "      <td>7896.666667</td>\n",
       "      <td>B09BFSCCNB</td>\n",
       "      <td>17</td>\n",
       "      <td>25</td>\n",
       "      <td>5800320</td>\n",
       "    </tr>\n",
       "    <tr>\n",
       "      <th>2022-01-13</th>\n",
       "      <td>759.990</td>\n",
       "      <td>615.9900</td>\n",
       "      <td>4.6</td>\n",
       "      <td>7896.666667</td>\n",
       "      <td>B09BFSCCNB</td>\n",
       "      <td>17</td>\n",
       "      <td>25</td>\n",
       "      <td>5800320</td>\n",
       "    </tr>\n",
       "    <tr>\n",
       "      <th>2022-01-14</th>\n",
       "      <td>754.990</td>\n",
       "      <td>615.9900</td>\n",
       "      <td>4.6</td>\n",
       "      <td>7909.666667</td>\n",
       "      <td>B09BFSCCNB</td>\n",
       "      <td>17</td>\n",
       "      <td>25</td>\n",
       "      <td>5800320</td>\n",
       "    </tr>\n",
       "    <tr>\n",
       "      <th>2022-01-15</th>\n",
       "      <td>749.990</td>\n",
       "      <td>615.9900</td>\n",
       "      <td>4.6</td>\n",
       "      <td>7920.750000</td>\n",
       "      <td>B09BFSCCNB</td>\n",
       "      <td>17</td>\n",
       "      <td>25</td>\n",
       "      <td>5800320</td>\n",
       "    </tr>\n",
       "    <tr>\n",
       "      <th>...</th>\n",
       "      <td>...</td>\n",
       "      <td>...</td>\n",
       "      <td>...</td>\n",
       "      <td>...</td>\n",
       "      <td>...</td>\n",
       "      <td>...</td>\n",
       "      <td>...</td>\n",
       "      <td>...</td>\n",
       "    </tr>\n",
       "    <tr>\n",
       "      <th>2024-04-25</th>\n",
       "      <td>583.940</td>\n",
       "      <td>336.1950</td>\n",
       "      <td>4.5</td>\n",
       "      <td>14758.000000</td>\n",
       "      <td>B09BFSCCNB</td>\n",
       "      <td>17</td>\n",
       "      <td>25</td>\n",
       "      <td>5800320</td>\n",
       "    </tr>\n",
       "    <tr>\n",
       "      <th>2024-04-26</th>\n",
       "      <td>589.020</td>\n",
       "      <td>341.5175</td>\n",
       "      <td>4.5</td>\n",
       "      <td>14759.500000</td>\n",
       "      <td>B09BFSCCNB</td>\n",
       "      <td>17</td>\n",
       "      <td>25</td>\n",
       "      <td>5800320</td>\n",
       "    </tr>\n",
       "    <tr>\n",
       "      <th>2024-04-27</th>\n",
       "      <td>633.025</td>\n",
       "      <td>346.8400</td>\n",
       "      <td>4.5</td>\n",
       "      <td>14759.750000</td>\n",
       "      <td>B09BFSCCNB</td>\n",
       "      <td>17</td>\n",
       "      <td>25</td>\n",
       "      <td>5800320</td>\n",
       "    </tr>\n",
       "    <tr>\n",
       "      <th>2024-04-28</th>\n",
       "      <td>677.030</td>\n",
       "      <td>368.1300</td>\n",
       "      <td>4.5</td>\n",
       "      <td>14760.000000</td>\n",
       "      <td>B09BFSCCNB</td>\n",
       "      <td>17</td>\n",
       "      <td>25</td>\n",
       "      <td>5800320</td>\n",
       "    </tr>\n",
       "    <tr>\n",
       "      <th>2024-04-29</th>\n",
       "      <td>677.030</td>\n",
       "      <td>368.1300</td>\n",
       "      <td>4.5</td>\n",
       "      <td>14761.000000</td>\n",
       "      <td>B09BFSCCNB</td>\n",
       "      <td>17</td>\n",
       "      <td>25</td>\n",
       "      <td>5800320</td>\n",
       "    </tr>\n",
       "  </tbody>\n",
       "</table>\n",
       "<p>809 rows × 8 columns</p>\n",
       "</div>"
      ],
      "text/plain": [
       "            price_new  price_used  rating       reviews        asin  oos_new  \\\n",
       "2021-07-29    769.990    615.9900     4.6   7896.666667  B09BFSCCNB       17   \n",
       "2022-01-11    769.990    615.9900     4.6   7896.666667  B09BFSCCNB       17   \n",
       "2022-01-13    759.990    615.9900     4.6   7896.666667  B09BFSCCNB       17   \n",
       "2022-01-14    754.990    615.9900     4.6   7909.666667  B09BFSCCNB       17   \n",
       "2022-01-15    749.990    615.9900     4.6   7920.750000  B09BFSCCNB       17   \n",
       "...               ...         ...     ...           ...         ...      ...   \n",
       "2024-04-25    583.940    336.1950     4.5  14758.000000  B09BFSCCNB       17   \n",
       "2024-04-26    589.020    341.5175     4.5  14759.500000  B09BFSCCNB       17   \n",
       "2024-04-27    633.025    346.8400     4.5  14759.750000  B09BFSCCNB       17   \n",
       "2024-04-28    677.030    368.1300     4.5  14760.000000  B09BFSCCNB       17   \n",
       "2024-04-29    677.030    368.1300     4.5  14761.000000  B09BFSCCNB       17   \n",
       "\n",
       "            oos_used  listed_since  \n",
       "2021-07-29        25       5800320  \n",
       "2022-01-11        25       5800320  \n",
       "2022-01-13        25       5800320  \n",
       "2022-01-14        25       5800320  \n",
       "2022-01-15        25       5800320  \n",
       "...              ...           ...  \n",
       "2024-04-25        25       5800320  \n",
       "2024-04-26        25       5800320  \n",
       "2024-04-27        25       5800320  \n",
       "2024-04-28        25       5800320  \n",
       "2024-04-29        25       5800320  \n",
       "\n",
       "[809 rows x 8 columns]"
      ]
     },
     "execution_count": 18,
     "metadata": {},
     "output_type": "execute_result"
    }
   ],
   "source": [
    "df2"
   ]
  }
 ],
 "metadata": {
  "kernelspec": {
   "display_name": "base",
   "language": "python",
   "name": "python3"
  },
  "language_info": {
   "codemirror_mode": {
    "name": "ipython",
    "version": 3
   },
   "file_extension": ".py",
   "mimetype": "text/x-python",
   "name": "python",
   "nbconvert_exporter": "python",
   "pygments_lexer": "ipython3",
   "version": "3.11.4"
  }
 },
 "nbformat": 4,
 "nbformat_minor": 2
}
