{
 "cells": [
  {
   "cell_type": "code",
   "execution_count": 86,
   "metadata": {},
   "outputs": [],
   "source": [
    "#import amaozn data\n",
    "import pandas as pd\n",
    "import numpy as np\n",
    "import matplotlib.pyplot as plt\n",
    "import seaborn as sns\n",
    "\n",
    "import re"
   ]
  },
  {
   "cell_type": "markdown",
   "metadata": {},
   "source": [
    "# Data cleaning"
   ]
  },
  {
   "cell_type": "code",
   "execution_count": 87,
   "metadata": {},
   "outputs": [],
   "source": [
    "#read data with decimals as dot\n",
    "df = pd.read_csv('../../data/amazon_search_hedonic.csv', sep = \";\", decimal = \".\")"
   ]
  },
  {
   "cell_type": "code",
   "execution_count": 88,
   "metadata": {},
   "outputs": [
    {
     "name": "stdout",
     "output_type": "stream",
     "text": [
      "Removed 32406 duplicates\n",
      "Removed 12407 empty reviews\n"
     ]
    }
   ],
   "source": [
    "#remove duplicates and empty variables\n",
    "df1 = len(df)\n",
    "df = df.drop_duplicates(subset = ['review_title', 'review', 'date', 'name', 'profile_url'])\n",
    "df2 = len(df)\n",
    "print('Removed', df1 - df2, 'duplicates')\n",
    "df = df[df['country'] == 'the United States']\n",
    "df = df[df['review'] != '']\n",
    "#remove reviews with na\n",
    "df = df.dropna(subset = ['review'])\n",
    "df3 = len(df)\n",
    "print('Removed', df2 - df3, 'empty reviews')\n"
   ]
  },
  {
   "cell_type": "code",
   "execution_count": 89,
   "metadata": {},
   "outputs": [],
   "source": [
    "# correct mistake in encoding numerical data\n",
    "df['helpful'] = df['helpful'].str.replace(',', '')\n",
    "\n",
    "df['helpful'] = pd.to_numeric(df['helpful'])"
   ]
  },
  {
   "cell_type": "code",
   "execution_count": 90,
   "metadata": {},
   "outputs": [],
   "source": [
    "#impute 0 for missing helpful votes\n",
    "df['helpful'] = df['helpful'].fillna(0)"
   ]
  },
  {
   "cell_type": "code",
   "execution_count": 91,
   "metadata": {},
   "outputs": [],
   "source": [
    "#merge with category data\n",
    "def remove_last_digit(string):\n",
    "    return re.sub(r'\\d+$', '', string)\n",
    "\n",
    "df['asin_url_clean'] = df['asin_url'].apply(remove_last_digit)\n",
    "links_data = pd.read_csv(f\"../../gen/input/amazon_links_per_category.csv\", delimiter = \";\")\n",
    "#remove duplicates for links_data product_link\n",
    "links_data = links_data.drop_duplicates(subset = ['product_link'])\n",
    "df = pd.merge(df, links_data, left_on = 'asin_url_clean', right_on = 'product_link', how = 'left')"
   ]
  },
  {
   "cell_type": "code",
   "execution_count": 92,
   "metadata": {},
   "outputs": [
    {
     "data": {
      "text/plain": [
       "Index(['asin_url', 'brand', 'model', 'link', 'product_title', 'name_x',\n",
       "       'rating', 'review_title', 'country', 'date', 'specs', 'first_spec',\n",
       "       'review', 'helpful', 'picture', 'verified', 'profile', 'video',\n",
       "       'scrape_date', 'profile_url', 'asin_url_clean', 'name_y', 'asin',\n",
       "       'product_link', 'page_link', 'category'],\n",
       "      dtype='object')"
      ]
     },
     "execution_count": 92,
     "metadata": {},
     "output_type": "execute_result"
    }
   ],
   "source": [
    "df.columns"
   ]
  },
  {
   "cell_type": "code",
   "execution_count": 93,
   "metadata": {},
   "outputs": [],
   "source": [
    "#drop columns\n",
    "df = df.drop(columns = ['brand', 'model', 'first_spec', 'asin_url_clean', 'product_link', 'page_link', 'name_y'])"
   ]
  },
  {
   "cell_type": "code",
   "execution_count": 94,
   "metadata": {},
   "outputs": [
    {
     "name": "stdout",
     "output_type": "stream",
     "text": [
      "mascara                 12200\n",
      "microwave oven          10868\n",
      "vacuum cleaner          10723\n",
      "Digital Photo Frames    10657\n",
      "razor                   10593\n",
      "computer adapter        10092\n",
      "lipstick                 9924\n",
      "electric toothbrush      9711\n",
      "party dress              9434\n",
      "dvd_player               9275\n",
      "printer                  9212\n",
      "smartphone               8890\n",
      "Name: category, dtype: int64\n"
     ]
    }
   ],
   "source": [
    "#summary\n",
    "print(df['category'].value_counts())"
   ]
  },
  {
   "cell_type": "markdown",
   "metadata": {},
   "source": [
    "# Add variables"
   ]
  },
  {
   "cell_type": "code",
   "execution_count": 95,
   "metadata": {},
   "outputs": [],
   "source": [
    "import ast\n",
    "def count_photos(pics):\n",
    "    if pics == 'no':\n",
    "        return 0\n",
    "    else:\n",
    "        return len(ast.literal_eval(pics))\n",
    "\n",
    "df['n_pictures'] = df['picture'].apply(count_photos)"
   ]
  },
  {
   "cell_type": "code",
   "execution_count": 96,
   "metadata": {},
   "outputs": [],
   "source": [
    "#length of review\n",
    "df['review_len'] = df['review'].str.len()"
   ]
  },
  {
   "cell_type": "code",
   "execution_count": 97,
   "metadata": {},
   "outputs": [],
   "source": [
    "df['date'] = pd.to_datetime(df['date'], format='%B %d, %Y')"
   ]
  },
  {
   "cell_type": "code",
   "execution_count": 98,
   "metadata": {},
   "outputs": [],
   "source": [
    "df['days_diff'] = (pd.to_datetime(df['scrape_date']) - df['date']).dt.days"
   ]
  },
  {
   "cell_type": "code",
   "execution_count": 104,
   "metadata": {},
   "outputs": [
    {
     "name": "stdout",
     "output_type": "stream",
     "text": [
      "                       category    asin  profile  picture  n_pictures  \\\n",
      "category                                                                \n",
      "dvd_player              9275.00   146.0   14.91%    4.18%        0.10   \n",
      "Digital Photo Frames   10657.00   206.0   21.11%   12.59%        0.31   \n",
      "smartphone              8890.00   338.0   18.08%    7.63%        0.19   \n",
      "computer adapter       10092.00   246.0   18.25%    5.13%        0.10   \n",
      "printer                 9212.00   177.0   15.61%    5.91%        0.11   \n",
      "electric toothbrush     9711.00   165.0    21.3%    8.62%        0.21   \n",
      "mascara                12200.00   142.0   17.39%     5.8%        0.10   \n",
      "lipstick                9924.00   156.0   20.61%    9.89%        0.17   \n",
      "party dress             9434.00   182.0    23.2%   31.42%        0.52   \n",
      "microwave oven         10868.00   170.0   14.24%    9.09%        0.17   \n",
      "vacuum cleaner         10723.00   224.0   15.15%    8.48%        0.20   \n",
      "razor                  10593.00   140.0   19.14%     5.1%        0.11   \n",
      "average                10131.58   191.0   18.25%    9.49%        0.19   \n",
      "sum                   121579.00  2292.0  218.99%  113.82%        2.29   \n",
      "\n",
      "                      review_len  helpful  rating  days_diff  \n",
      "category                                                      \n",
      "dvd_player                397.45     4.62    3.88    1591.21  \n",
      "Digital Photo Frames      435.78     2.09    4.29     437.34  \n",
      "smartphone                470.83     4.71    3.64     545.22  \n",
      "computer adapter          235.76     0.76    4.29     734.91  \n",
      "printer                   631.21     7.90    3.74    1343.99  \n",
      "electric toothbrush       334.57     1.97    4.22     391.89  \n",
      "mascara                   250.93     2.65    4.11     530.16  \n",
      "lipstick                  190.95     1.79    4.02     654.96  \n",
      "party dress               221.00     3.45    4.29     271.33  \n",
      "microwave oven            472.58     8.44    4.02     728.12  \n",
      "vacuum cleaner            491.38     5.98    4.23     649.65  \n",
      "razor                     280.92     2.58    4.37     466.12  \n",
      "average                   367.78     3.91    4.09     695.41  \n",
      "sum                      4413.37    46.94   49.10    8344.91  \n"
     ]
    }
   ],
   "source": [
    "#print the number of observations per category, and the number of unique products, and the number of non=nan profile values\n",
    "df_descriptives = df.groupby('category').agg({'category': 'size',\n",
    "                                  'asin': 'nunique',\n",
    "                                  'profile': lambda x: sum(~x.isna()),\n",
    "                                  'picture': lambda x: sum(x != 'no'),\n",
    "                                  'n_pictures': 'mean',\n",
    "                                  'review_len' : 'mean',\n",
    "                                  'helpful' : 'mean',\n",
    "                                    'rating' : 'mean',\n",
    "                                    #add average date\n",
    "                                    'days_diff' : 'mean'\n",
    "\n",
    "                                  })\n",
    "#df_descriptives.columns = ['n_obs', 'n_products', 'n_profiles', 'n_pictures', 'photos_per_review', 'helpful_mean', 'rating_mean']\n",
    "df_descriptives['profile'] = df_descriptives['profile']/df_descriptives['category']*100\n",
    "df_descriptives['picture'] = df_descriptives['picture']/df_descriptives['category']*100\n",
    "\n",
    "#change order of category\n",
    "df_descriptives = df_descriptives.reindex(df['category'].unique())\n",
    "#add average at bottom\n",
    "df_descriptives.loc['average'] = df_descriptives.mean()\n",
    "#sum at the bottom, except for the average row\n",
    "df_descriptives.loc['sum'] = df_descriptives.iloc[:-1, :].sum()\n",
    "#round values to 3 decimals\n",
    "df_descriptives = df_descriptives.round(2)\n",
    "#to percentage\n",
    "df_descriptives['profile'] = df_descriptives['profile'].astype(str) + '%'\n",
    "df_descriptives['picture'] = df_descriptives['picture'].astype(str) + '%'\n",
    "print(df_descriptives)\n",
    "#save to excel\n",
    "df_descriptives.to_excel('../../gen/output/amazon_descriptives.xlsx')"
   ]
  },
  {
   "cell_type": "code",
   "execution_count": 103,
   "metadata": {},
   "outputs": [
    {
     "data": {
      "text/html": [
       "<div>\n",
       "<style scoped>\n",
       "    .dataframe tbody tr th:only-of-type {\n",
       "        vertical-align: middle;\n",
       "    }\n",
       "\n",
       "    .dataframe tbody tr th {\n",
       "        vertical-align: top;\n",
       "    }\n",
       "\n",
       "    .dataframe thead th {\n",
       "        text-align: right;\n",
       "    }\n",
       "</style>\n",
       "<table border=\"1\" class=\"dataframe\">\n",
       "  <thead>\n",
       "    <tr style=\"text-align: right;\">\n",
       "      <th></th>\n",
       "      <th>category</th>\n",
       "      <th>asin</th>\n",
       "      <th>profile</th>\n",
       "      <th>picture</th>\n",
       "      <th>n_pictures</th>\n",
       "      <th>review_len</th>\n",
       "      <th>helpful</th>\n",
       "      <th>rating</th>\n",
       "      <th>days_diff</th>\n",
       "    </tr>\n",
       "    <tr>\n",
       "      <th>category</th>\n",
       "      <th></th>\n",
       "      <th></th>\n",
       "      <th></th>\n",
       "      <th></th>\n",
       "      <th></th>\n",
       "      <th></th>\n",
       "      <th></th>\n",
       "      <th></th>\n",
       "      <th></th>\n",
       "    </tr>\n",
       "  </thead>\n",
       "  <tbody>\n",
       "    <tr>\n",
       "      <th>dvd_player</th>\n",
       "      <td>9275.00</td>\n",
       "      <td>146.0</td>\n",
       "      <td>14.91%</td>\n",
       "      <td>4.18%</td>\n",
       "      <td>0.10</td>\n",
       "      <td>397.45</td>\n",
       "      <td>4.62</td>\n",
       "      <td>3.88</td>\n",
       "      <td>1591.21</td>\n",
       "    </tr>\n",
       "    <tr>\n",
       "      <th>Digital Photo Frames</th>\n",
       "      <td>10657.00</td>\n",
       "      <td>206.0</td>\n",
       "      <td>21.11%</td>\n",
       "      <td>12.59%</td>\n",
       "      <td>0.31</td>\n",
       "      <td>435.78</td>\n",
       "      <td>2.09</td>\n",
       "      <td>4.29</td>\n",
       "      <td>437.34</td>\n",
       "    </tr>\n",
       "    <tr>\n",
       "      <th>smartphone</th>\n",
       "      <td>8890.00</td>\n",
       "      <td>338.0</td>\n",
       "      <td>18.08%</td>\n",
       "      <td>7.63%</td>\n",
       "      <td>0.19</td>\n",
       "      <td>470.83</td>\n",
       "      <td>4.71</td>\n",
       "      <td>3.64</td>\n",
       "      <td>545.22</td>\n",
       "    </tr>\n",
       "    <tr>\n",
       "      <th>computer adapter</th>\n",
       "      <td>10092.00</td>\n",
       "      <td>246.0</td>\n",
       "      <td>18.25%</td>\n",
       "      <td>5.13%</td>\n",
       "      <td>0.10</td>\n",
       "      <td>235.76</td>\n",
       "      <td>0.76</td>\n",
       "      <td>4.29</td>\n",
       "      <td>734.91</td>\n",
       "    </tr>\n",
       "    <tr>\n",
       "      <th>printer</th>\n",
       "      <td>9212.00</td>\n",
       "      <td>177.0</td>\n",
       "      <td>15.61%</td>\n",
       "      <td>5.91%</td>\n",
       "      <td>0.11</td>\n",
       "      <td>631.21</td>\n",
       "      <td>7.90</td>\n",
       "      <td>3.74</td>\n",
       "      <td>1343.99</td>\n",
       "    </tr>\n",
       "    <tr>\n",
       "      <th>electric toothbrush</th>\n",
       "      <td>9711.00</td>\n",
       "      <td>165.0</td>\n",
       "      <td>21.3%</td>\n",
       "      <td>8.62%</td>\n",
       "      <td>0.21</td>\n",
       "      <td>334.57</td>\n",
       "      <td>1.97</td>\n",
       "      <td>4.22</td>\n",
       "      <td>391.89</td>\n",
       "    </tr>\n",
       "    <tr>\n",
       "      <th>mascara</th>\n",
       "      <td>12200.00</td>\n",
       "      <td>142.0</td>\n",
       "      <td>17.39%</td>\n",
       "      <td>5.8%</td>\n",
       "      <td>0.10</td>\n",
       "      <td>250.93</td>\n",
       "      <td>2.65</td>\n",
       "      <td>4.11</td>\n",
       "      <td>530.16</td>\n",
       "    </tr>\n",
       "    <tr>\n",
       "      <th>lipstick</th>\n",
       "      <td>9924.00</td>\n",
       "      <td>156.0</td>\n",
       "      <td>20.61%</td>\n",
       "      <td>9.89%</td>\n",
       "      <td>0.17</td>\n",
       "      <td>190.95</td>\n",
       "      <td>1.79</td>\n",
       "      <td>4.02</td>\n",
       "      <td>654.96</td>\n",
       "    </tr>\n",
       "    <tr>\n",
       "      <th>party dress</th>\n",
       "      <td>9434.00</td>\n",
       "      <td>182.0</td>\n",
       "      <td>23.2%</td>\n",
       "      <td>31.42%</td>\n",
       "      <td>0.52</td>\n",
       "      <td>221.00</td>\n",
       "      <td>3.45</td>\n",
       "      <td>4.29</td>\n",
       "      <td>271.33</td>\n",
       "    </tr>\n",
       "    <tr>\n",
       "      <th>microwave oven</th>\n",
       "      <td>10868.00</td>\n",
       "      <td>170.0</td>\n",
       "      <td>14.24%</td>\n",
       "      <td>9.09%</td>\n",
       "      <td>0.17</td>\n",
       "      <td>472.58</td>\n",
       "      <td>8.44</td>\n",
       "      <td>4.02</td>\n",
       "      <td>728.12</td>\n",
       "    </tr>\n",
       "    <tr>\n",
       "      <th>vacuum cleaner</th>\n",
       "      <td>10723.00</td>\n",
       "      <td>224.0</td>\n",
       "      <td>15.15%</td>\n",
       "      <td>8.48%</td>\n",
       "      <td>0.20</td>\n",
       "      <td>491.38</td>\n",
       "      <td>5.98</td>\n",
       "      <td>4.23</td>\n",
       "      <td>649.65</td>\n",
       "    </tr>\n",
       "    <tr>\n",
       "      <th>razor</th>\n",
       "      <td>10593.00</td>\n",
       "      <td>140.0</td>\n",
       "      <td>19.14%</td>\n",
       "      <td>5.1%</td>\n",
       "      <td>0.11</td>\n",
       "      <td>280.92</td>\n",
       "      <td>2.58</td>\n",
       "      <td>4.37</td>\n",
       "      <td>466.12</td>\n",
       "    </tr>\n",
       "    <tr>\n",
       "      <th>average</th>\n",
       "      <td>10131.58</td>\n",
       "      <td>191.0</td>\n",
       "      <td>18.25%</td>\n",
       "      <td>9.49%</td>\n",
       "      <td>0.19</td>\n",
       "      <td>367.78</td>\n",
       "      <td>3.91</td>\n",
       "      <td>4.09</td>\n",
       "      <td>695.41</td>\n",
       "    </tr>\n",
       "  </tbody>\n",
       "</table>\n",
       "</div>"
      ],
      "text/plain": [
       "                      category   asin profile picture  n_pictures  review_len  \\\n",
       "category                                                                        \n",
       "dvd_player             9275.00  146.0  14.91%   4.18%        0.10      397.45   \n",
       "Digital Photo Frames  10657.00  206.0  21.11%  12.59%        0.31      435.78   \n",
       "smartphone             8890.00  338.0  18.08%   7.63%        0.19      470.83   \n",
       "computer adapter      10092.00  246.0  18.25%   5.13%        0.10      235.76   \n",
       "printer                9212.00  177.0  15.61%   5.91%        0.11      631.21   \n",
       "electric toothbrush    9711.00  165.0   21.3%   8.62%        0.21      334.57   \n",
       "mascara               12200.00  142.0  17.39%    5.8%        0.10      250.93   \n",
       "lipstick               9924.00  156.0  20.61%   9.89%        0.17      190.95   \n",
       "party dress            9434.00  182.0   23.2%  31.42%        0.52      221.00   \n",
       "microwave oven        10868.00  170.0  14.24%   9.09%        0.17      472.58   \n",
       "vacuum cleaner        10723.00  224.0  15.15%   8.48%        0.20      491.38   \n",
       "razor                 10593.00  140.0  19.14%    5.1%        0.11      280.92   \n",
       "average               10131.58  191.0  18.25%   9.49%        0.19      367.78   \n",
       "\n",
       "                      helpful  rating  days_diff  \n",
       "category                                          \n",
       "dvd_player               4.62    3.88    1591.21  \n",
       "Digital Photo Frames     2.09    4.29     437.34  \n",
       "smartphone               4.71    3.64     545.22  \n",
       "computer adapter         0.76    4.29     734.91  \n",
       "printer                  7.90    3.74    1343.99  \n",
       "electric toothbrush      1.97    4.22     391.89  \n",
       "mascara                  2.65    4.11     530.16  \n",
       "lipstick                 1.79    4.02     654.96  \n",
       "party dress              3.45    4.29     271.33  \n",
       "microwave oven           8.44    4.02     728.12  \n",
       "vacuum cleaner           5.98    4.23     649.65  \n",
       "razor                    2.58    4.37     466.12  \n",
       "average                  3.91    4.09     695.41  "
      ]
     },
     "execution_count": 103,
     "metadata": {},
     "output_type": "execute_result"
    }
   ],
   "source": [
    "df_descriptives.iloc[:-1, :]"
   ]
  },
  {
   "cell_type": "code",
   "execution_count": 15,
   "metadata": {},
   "outputs": [
    {
     "data": {
      "text/plain": [
       "Index(['asin_url', 'link', 'product_title', 'name_x', 'rating', 'review_title',\n",
       "       'country', 'date', 'specs', 'review', 'helpful', 'picture', 'verified',\n",
       "       'profile', 'video', 'scrape_date', 'profile_url', 'asin', 'category',\n",
       "       'n_pictures', 'review_len', 'days_diff'],\n",
       "      dtype='object')"
      ]
     },
     "execution_count": 15,
     "metadata": {},
     "output_type": "execute_result"
    }
   ],
   "source": [
    "df.columns"
   ]
  },
  {
   "cell_type": "code",
   "execution_count": 16,
   "metadata": {},
   "outputs": [
    {
     "data": {
      "image/png": "[encoded data removed]",
      "text/plain": [
       "<Figure size 640x480 with 1 Axes>"
      ]
     },
     "metadata": {},
     "output_type": "display_data"
    }
   ],
   "source": [
    "#show histogram of helpful votes with log10 y scale\n",
    "\n",
    "plt.hist(df['helpful'], bins = 20)\n",
    "plt.yscale('log')"
   ]
  },
  {
   "cell_type": "code",
   "execution_count": 17,
   "metadata": {},
   "outputs": [
    {
     "data": {
      "text/plain": [
       "0.46679113991725546"
      ]
     },
     "execution_count": 17,
     "metadata": {},
     "output_type": "execute_result"
    }
   ],
   "source": [
    "#proportion of reviews with at least 1 helpful vote\n",
    "len(df[df['helpful'] > 0]) / len(df)"
   ]
  },
  {
   "cell_type": "markdown",
   "metadata": {},
   "source": [
    "# review cleaning"
   ]
  },
  {
   "cell_type": "code",
   "execution_count": 18,
   "metadata": {},
   "outputs": [
    {
     "name": "stdout",
     "output_type": "stream",
     "text": [
      "This brand DVD player works great.  Will be buying several more for MBR, guest room, and craft room.\n"
     ]
    },
    {
     "name": "stderr",
     "output_type": "stream",
     "text": [
      "C:\\Users\\janva\\AppData\\Local\\Temp\\ipykernel_13108\\2016550727.py:3: FutureWarning: The default value of regex will change from True to False in a future version.\n",
      "  df['review_clean'] = df['review'].str.replace('[^\\w\\s]','')\n"
     ]
    },
    {
     "name": "stdout",
     "output_type": "stream",
     "text": [
      "This brand DVD player works great  Will be buying several more for MBR guest room and craft room\n",
      "this brand dvd player works great  will be buying several more for mbr guest room and craft room\n",
      "brand dvd player works great buying several mbr guest room craft room\n",
      "brand dvd player work great buy sever mbr guest room craft room\n"
     ]
    }
   ],
   "source": [
    "#remove punctuation from review\n",
    "print(df['review'][0])\n",
    "df['review_clean'] = df['review'].str.replace('[^\\w\\s]','')\n",
    "print(df['review_clean'][0])\n",
    "#lowercase everything\n",
    "df['review_clean'] = df['review_clean'].str.lower()\n",
    "print(df['review_clean'][0])\n",
    "#remove stopwords\n",
    "from nltk.corpus import stopwords\n",
    "stop = stopwords.words('english')\n",
    "df['review_clean'] = df['review_clean'].apply(lambda x: ' '.join([word for word in x.split() if word not in (stop)]))\n",
    "print(df['review_clean'][0])\n",
    "#stemming\n",
    "from nltk.stem import PorterStemmer\n",
    "porter = PorterStemmer()\n",
    "df['review_clean'] = df['review_clean'].apply(lambda x: ' '.join([porter.stem(word) for word in x.split()]))\n",
    "print(df['review_clean'][0])\n",
    "#tokenize review\n",
    "#from nltk.tokenize import word_tokenize\n",
    "#df['review_clean'] = df['review_clean'].apply(word_tokenize)\n",
    "#print(df['review_clean'][0])\n"
   ]
  },
  {
   "cell_type": "code",
   "execution_count": 82,
   "metadata": {},
   "outputs": [],
   "source": [
    "#save to csv\n",
    "df.to_csv('../../gen/input/amazon_search_hedonic_clean.csv', sep = \";\", index = False)"
   ]
  },
  {
   "cell_type": "code",
   "execution_count": 26,
   "metadata": {},
   "outputs": [
    {
     "name": "stdout",
     "output_type": "stream",
     "text": [
      "This brand DVD player works great.  Will be buying several more for MBR, guest room, and craft room.\n",
      "-----------------------\n",
      "brand dvd player work great buy sever mbr guest room craft room\n"
     ]
    }
   ],
   "source": [
    "print(df['review'][0])\n",
    "print('-----------------------')\n",
    "print(df['review_clean'][0])"
   ]
  },
  {
   "cell_type": "markdown",
   "metadata": {},
   "source": [
    "# Baseline test"
   ]
  },
  {
   "cell_type": "code",
   "execution_count": 105,
   "metadata": {},
   "outputs": [],
   "source": [
    "#open csv\n",
    "df = pd.read_csv('../../gen/input/amazon_search_hedonic_clean.csv', sep = \";\")"
   ]
  },
  {
   "cell_type": "code",
   "execution_count": 84,
   "metadata": {},
   "outputs": [
    {
     "data": {
      "text/plain": [
       "count    114978.000000\n",
       "mean        659.717416\n",
       "std         962.037709\n",
       "min           0.000000\n",
       "25%          80.000000\n",
       "50%         253.000000\n",
       "75%         821.000000\n",
       "max        8060.000000\n",
       "Name: days_diff, dtype: float64"
      ]
     },
     "execution_count": 84,
     "metadata": {},
     "output_type": "execute_result"
    }
   ],
   "source": [
    "df['days_diff'].describe()"
   ]
  },
  {
   "cell_type": "code",
   "execution_count": 106,
   "metadata": {},
   "outputs": [],
   "source": [
    "from sklearn.model_selection import train_test_split\n",
    "from sklearn.feature_extraction.text import CountVectorizer\n",
    "from sklearn.neighbors import KNeighborsClassifier\n",
    "from sklearn.metrics import accuracy_score\n",
    "from sklearn.neighbors import KNeighborsRegressor\n",
    "\n",
    "\n",
    "vectorizer = CountVectorizer(max_features = 1000)"
   ]
  },
  {
   "cell_type": "code",
   "execution_count": 33,
   "metadata": {},
   "outputs": [
    {
     "data": {
      "text/html": [
       "<div>\n",
       "<style scoped>\n",
       "    .dataframe tbody tr th:only-of-type {\n",
       "        vertical-align: middle;\n",
       "    }\n",
       "\n",
       "    .dataframe tbody tr th {\n",
       "        vertical-align: top;\n",
       "    }\n",
       "\n",
       "    .dataframe thead th {\n",
       "        text-align: right;\n",
       "    }\n",
       "</style>\n",
       "<table border=\"1\" class=\"dataframe\">\n",
       "  <thead>\n",
       "    <tr style=\"text-align: right;\">\n",
       "      <th></th>\n",
       "      <th>review_clean</th>\n",
       "      <th>review</th>\n",
       "    </tr>\n",
       "  </thead>\n",
       "  <tbody>\n",
       "    <tr>\n",
       "      <th>375</th>\n",
       "      <td>NaN</td>\n",
       "      <td>A</td>\n",
       "    </tr>\n",
       "    <tr>\n",
       "      <th>1056</th>\n",
       "      <td>NaN</td>\n",
       "      <td>A</td>\n",
       "    </tr>\n",
       "    <tr>\n",
       "      <th>1772</th>\n",
       "      <td>NaN</td>\n",
       "      <td>So so</td>\n",
       "    </tr>\n",
       "    <tr>\n",
       "      <th>2263</th>\n",
       "      <td>NaN</td>\n",
       "      <td>A+</td>\n",
       "    </tr>\n",
       "    <tr>\n",
       "      <th>2316</th>\n",
       "      <td>NaN</td>\n",
       "      <td>It does what it should.</td>\n",
       "    </tr>\n",
       "    <tr>\n",
       "      <th>...</th>\n",
       "      <td>...</td>\n",
       "      <td>...</td>\n",
       "    </tr>\n",
       "    <tr>\n",
       "      <th>116980</th>\n",
       "      <td>NaN</td>\n",
       "      <td>A+</td>\n",
       "    </tr>\n",
       "    <tr>\n",
       "      <th>118027</th>\n",
       "      <td>NaN</td>\n",
       "      <td>Above</td>\n",
       "    </tr>\n",
       "    <tr>\n",
       "      <th>118701</th>\n",
       "      <td>NaN</td>\n",
       "      <td>A+</td>\n",
       "    </tr>\n",
       "    <tr>\n",
       "      <th>121122</th>\n",
       "      <td>NaN</td>\n",
       "      <td>on</td>\n",
       "    </tr>\n",
       "    <tr>\n",
       "      <th>121209</th>\n",
       "      <td>NaN</td>\n",
       "      <td>A+</td>\n",
       "    </tr>\n",
       "  </tbody>\n",
       "</table>\n",
       "<p>103 rows × 2 columns</p>\n",
       "</div>"
      ],
      "text/plain": [
       "       review_clean                   review\n",
       "375             NaN                        A\n",
       "1056            NaN                        A\n",
       "1772            NaN                    So so\n",
       "2263            NaN                       A+\n",
       "2316            NaN  It does what it should.\n",
       "...             ...                      ...\n",
       "116980          NaN                       A+\n",
       "118027          NaN                    Above\n",
       "118701          NaN                       A+\n",
       "121122          NaN                       on\n",
       "121209          NaN                       A+\n",
       "\n",
       "[103 rows x 2 columns]"
      ]
     },
     "execution_count": 33,
     "metadata": {},
     "output_type": "execute_result"
    }
   ],
   "source": [
    "df[df['review_clean'].isna()][['review_clean', 'review']]"
   ]
  },
  {
   "cell_type": "code",
   "execution_count": 107,
   "metadata": {},
   "outputs": [],
   "source": [
    "#split data\n",
    "df = df.dropna(subset = ['review_clean'])"
   ]
  },
  {
   "cell_type": "code",
   "execution_count": 108,
   "metadata": {},
   "outputs": [],
   "source": [
    "#remove outliers with percentile\n",
    "df = df[df['helpful'] < df['helpful'].quantile(0.95)]"
   ]
  },
  {
   "cell_type": "code",
   "execution_count": 64,
   "metadata": {},
   "outputs": [],
   "source": [
    "X_train, X_test, y_train, y_test = train_test_split(df['review_clean'], df['helpful'], test_size=0.6, random_state=42)\n",
    "X_val, X_test, y_val, y_test = train_test_split(X_test, y_test, test_size=0.5, random_state=42)\n",
    "\n",
    "#fit vectorizer\n",
    "X_train = vectorizer.fit_transform(X_train)\n",
    "X_val = vectorizer.transform(X_val)\n",
    "X_test = vectorizer.transform(X_test)"
   ]
  },
  {
   "cell_type": "code",
   "execution_count": 75,
   "metadata": {},
   "outputs": [],
   "source": [
    "from sklearn.feature_selection import SelectKBest, f_regression\n",
    "\n",
    "# Initialize SelectKBest with f_regression\n",
    "kbest = SelectKBest(f_regression, k=1000)\n",
    "\n",
    "# Perform feature selection\n",
    "X_train_k = kbest.fit_transform(X_train, y_train)\n",
    "X_val_k = kbest.transform(X_val)\n",
    "X_test_k = kbest.transform(X_test)"
   ]
  },
  {
   "cell_type": "code",
   "execution_count": 76,
   "metadata": {},
   "outputs": [
    {
     "data": {
      "text/html": [
       "<style>#sk-container-id-3 {color: black;}#sk-container-id-3 pre{padding: 0;}#sk-container-id-3 div.sk-toggleable {background-color: white;}#sk-container-id-3 label.sk-toggleable__label {cursor: pointer;display: block;width: 100%;margin-bottom: 0;padding: 0.3em;box-sizing: border-box;text-align: center;}#sk-container-id-3 label.sk-toggleable__label-arrow:before {content: \"▸\";float: left;margin-right: 0.25em;color: #696969;}#sk-container-id-3 label.sk-toggleable__label-arrow:hover:before {color: black;}#sk-container-id-3 div.sk-estimator:hover label.sk-toggleable__label-arrow:before {color: black;}#sk-container-id-3 div.sk-toggleable__content {max-height: 0;max-width: 0;overflow: hidden;text-align: left;background-color: #f0f8ff;}#sk-container-id-3 div.sk-toggleable__content pre {margin: 0.2em;color: black;border-radius: 0.25em;background-color: #f0f8ff;}#sk-container-id-3 input.sk-toggleable__control:checked~div.sk-toggleable__content {max-height: 200px;max-width: 100%;overflow: auto;}#sk-container-id-3 input.sk-toggleable__control:checked~label.sk-toggleable__label-arrow:before {content: \"▾\";}#sk-container-id-3 div.sk-estimator input.sk-toggleable__control:checked~label.sk-toggleable__label {background-color: #d4ebff;}#sk-container-id-3 div.sk-label input.sk-toggleable__control:checked~label.sk-toggleable__label {background-color: #d4ebff;}#sk-container-id-3 input.sk-hidden--visually {border: 0;clip: rect(1px 1px 1px 1px);clip: rect(1px, 1px, 1px, 1px);height: 1px;margin: -1px;overflow: hidden;padding: 0;position: absolute;width: 1px;}#sk-container-id-3 div.sk-estimator {font-family: monospace;background-color: #f0f8ff;border: 1px dotted black;border-radius: 0.25em;box-sizing: border-box;margin-bottom: 0.5em;}#sk-container-id-3 div.sk-estimator:hover {background-color: #d4ebff;}#sk-container-id-3 div.sk-parallel-item::after {content: \"\";width: 100%;border-bottom: 1px solid gray;flex-grow: 1;}#sk-container-id-3 div.sk-label:hover label.sk-toggleable__label {background-color: #d4ebff;}#sk-container-id-3 div.sk-serial::before {content: \"\";position: absolute;border-left: 1px solid gray;box-sizing: border-box;top: 0;bottom: 0;left: 50%;z-index: 0;}#sk-container-id-3 div.sk-serial {display: flex;flex-direction: column;align-items: center;background-color: white;padding-right: 0.2em;padding-left: 0.2em;position: relative;}#sk-container-id-3 div.sk-item {position: relative;z-index: 1;}#sk-container-id-3 div.sk-parallel {display: flex;align-items: stretch;justify-content: center;background-color: white;position: relative;}#sk-container-id-3 div.sk-item::before, #sk-container-id-3 div.sk-parallel-item::before {content: \"\";position: absolute;border-left: 1px solid gray;box-sizing: border-box;top: 0;bottom: 0;left: 50%;z-index: -1;}#sk-container-id-3 div.sk-parallel-item {display: flex;flex-direction: column;z-index: 1;position: relative;background-color: white;}#sk-container-id-3 div.sk-parallel-item:first-child::after {align-self: flex-end;width: 50%;}#sk-container-id-3 div.sk-parallel-item:last-child::after {align-self: flex-start;width: 50%;}#sk-container-id-3 div.sk-parallel-item:only-child::after {width: 0;}#sk-container-id-3 div.sk-dashed-wrapped {border: 1px dashed gray;margin: 0 0.4em 0.5em 0.4em;box-sizing: border-box;padding-bottom: 0.4em;background-color: white;}#sk-container-id-3 div.sk-label label {font-family: monospace;font-weight: bold;display: inline-block;line-height: 1.2em;}#sk-container-id-3 div.sk-label-container {text-align: center;}#sk-container-id-3 div.sk-container {/* jupyter's `normalize.less` sets `[hidden] { display: none; }` but bootstrap.min.css set `[hidden] { display: none !important; }` so we also need the `!important` here to be able to override the default hidden behavior on the sphinx rendered scikit-learn.org. See: https://github.com/scikit-learn/scikit-learn/issues/21755 */display: inline-block !important;position: relative;}#sk-container-id-3 div.sk-text-repr-fallback {display: none;}</style><div id=\"sk-container-id-3\" class=\"sk-top-container\"><div class=\"sk-text-repr-fallback\"><pre>KNeighborsRegressor()</pre><b>In a Jupyter environment, please rerun this cell to show the HTML representation or trust the notebook. <br />On GitHub, the HTML representation is unable to render, please try loading this page with nbviewer.org.</b></div><div class=\"sk-container\" hidden><div class=\"sk-item\"><div class=\"sk-estimator sk-toggleable\"><input class=\"sk-toggleable__control sk-hidden--visually\" id=\"sk-estimator-id-3\" type=\"checkbox\" checked><label for=\"sk-estimator-id-3\" class=\"sk-toggleable__label sk-toggleable__label-arrow\">KNeighborsRegressor</label><div class=\"sk-toggleable__content\"><pre>KNeighborsRegressor()</pre></div></div></div></div></div>"
      ],
      "text/plain": [
       "KNeighborsRegressor()"
      ]
     },
     "execution_count": 76,
     "metadata": {},
     "output_type": "execute_result"
    }
   ],
   "source": [
    "from sklearn.neighbors import KNeighborsRegressor\n",
    "knn = KNeighborsRegressor(n_neighbors=5)\n",
    "knn.fit(X_train_k, y_train)"
   ]
  },
  {
   "cell_type": "code",
   "execution_count": 77,
   "metadata": {},
   "outputs": [],
   "source": [
    "y_pred = knn.predict(X_val_k)"
   ]
  },
  {
   "cell_type": "code",
   "execution_count": 78,
   "metadata": {},
   "outputs": [],
   "source": [
    "#mse\n",
    "mse = (y_pred - y_val)**2"
   ]
  },
  {
   "cell_type": "code",
   "execution_count": 79,
   "metadata": {},
   "outputs": [
    {
     "data": {
      "text/plain": [
       "36565     121.0\n",
       "27614     121.0\n",
       "61719     121.0\n",
       "88488     121.0\n",
       "19467     121.0\n",
       "49100     121.0\n",
       "30591     121.0\n",
       "100877    121.0\n",
       "64625     121.0\n",
       "71384     121.0\n",
       "Name: helpful, dtype: float64"
      ]
     },
     "execution_count": 79,
     "metadata": {},
     "output_type": "execute_result"
    }
   ],
   "source": [
    "#get top 10 largest values in mse\n",
    "mse.nlargest(10)"
   ]
  },
  {
   "cell_type": "code",
   "execution_count": 80,
   "metadata": {},
   "outputs": [
    {
     "data": {
      "text/plain": [
       "4.917543849476705"
      ]
     },
     "execution_count": 80,
     "metadata": {},
     "output_type": "execute_result"
    }
   ],
   "source": [
    "np.mean(mse)"
   ]
  },
  {
   "cell_type": "code",
   "execution_count": 72,
   "metadata": {},
   "outputs": [
    {
     "name": "stdout",
     "output_type": "stream",
     "text": [
      "15 4.880813433965668\n"
     ]
    },
    {
     "name": "stderr",
     "output_type": "stream",
     "text": [
      "C:\\Users\\janva\\AppData\\Local\\Temp\\ipykernel_13108\\282051470.py:11: FutureWarning: The frame.append method is deprecated and will be removed from pandas in a future version. Use pandas.concat instead.\n",
      "  results = results.append({'k': k, 'mse': np.mean((y_pred - y_val)**2)}, ignore_index = True)\n"
     ]
    },
    {
     "name": "stdout",
     "output_type": "stream",
     "text": [
      "17 4.875604467964364\n"
     ]
    },
    {
     "name": "stderr",
     "output_type": "stream",
     "text": [
      "C:\\Users\\janva\\AppData\\Local\\Temp\\ipykernel_13108\\282051470.py:11: FutureWarning: The frame.append method is deprecated and will be removed from pandas in a future version. Use pandas.concat instead.\n",
      "  results = results.append({'k': k, 'mse': np.mean((y_pred - y_val)**2)}, ignore_index = True)\n"
     ]
    },
    {
     "name": "stdout",
     "output_type": "stream",
     "text": [
      "19 4.872842641081859\n"
     ]
    },
    {
     "name": "stderr",
     "output_type": "stream",
     "text": [
      "C:\\Users\\janva\\AppData\\Local\\Temp\\ipykernel_13108\\282051470.py:11: FutureWarning: The frame.append method is deprecated and will be removed from pandas in a future version. Use pandas.concat instead.\n",
      "  results = results.append({'k': k, 'mse': np.mean((y_pred - y_val)**2)}, ignore_index = True)\n"
     ]
    },
    {
     "name": "stdout",
     "output_type": "stream",
     "text": [
      "21 4.874354670404387\n"
     ]
    },
    {
     "name": "stderr",
     "output_type": "stream",
     "text": [
      "C:\\Users\\janva\\AppData\\Local\\Temp\\ipykernel_13108\\282051470.py:11: FutureWarning: The frame.append method is deprecated and will be removed from pandas in a future version. Use pandas.concat instead.\n",
      "  results = results.append({'k': k, 'mse': np.mean((y_pred - y_val)**2)}, ignore_index = True)\n"
     ]
    },
    {
     "name": "stdout",
     "output_type": "stream",
     "text": [
      "23 4.877224917885589\n"
     ]
    },
    {
     "name": "stderr",
     "output_type": "stream",
     "text": [
      "C:\\Users\\janva\\AppData\\Local\\Temp\\ipykernel_13108\\282051470.py:11: FutureWarning: The frame.append method is deprecated and will be removed from pandas in a future version. Use pandas.concat instead.\n",
      "  results = results.append({'k': k, 'mse': np.mean((y_pred - y_val)**2)}, ignore_index = True)\n"
     ]
    }
   ],
   "source": [
    "#do a grid search\n",
    "from sklearn.neighbors import KNeighborsRegressor\n",
    "\n",
    "#results df\n",
    "#results = pd.DataFrame(columns = ['k', 'mse'])\n",
    "for k in range(15, 25, 2):\n",
    "    knn = KNeighborsRegressor(n_neighbors=k)\n",
    "    knn.fit(X_train, y_train)\n",
    "    y_pred = knn.predict(X_val)\n",
    "    print(k, np.mean((y_pred - y_val)**2))\n",
    "    results = results.append({'k': k, 'mse': np.mean((y_pred - y_val)**2)}, ignore_index = True)"
   ]
  },
  {
   "cell_type": "code",
   "execution_count": 74,
   "metadata": {},
   "outputs": [],
   "source": [
    "#sve\n",
    "results.to_csv('../../gen/output/amazon_knn_results.csv', index = False)"
   ]
  },
  {
   "cell_type": "code",
   "execution_count": 75,
   "metadata": {},
   "outputs": [
    {
     "ename": "IndexError",
     "evalue": "tuple index out of range",
     "output_type": "error",
     "traceback": [
      "\u001b[1;31m---------------------------------------------------------------------------\u001b[0m",
      "\u001b[1;31mIndexError\u001b[0m                                Traceback (most recent call last)",
      "Cell \u001b[1;32mIn[75], line 26\u001b[0m\n\u001b[0;32m     23\u001b[0m X_train, X_test, y_train, y_test \u001b[38;5;241m=\u001b[39m train_test_split(df[\u001b[38;5;124m'\u001b[39m\u001b[38;5;124mreview_clean\u001b[39m\u001b[38;5;124m'\u001b[39m], df[\u001b[38;5;124m'\u001b[39m\u001b[38;5;124mhelpful\u001b[39m\u001b[38;5;124m'\u001b[39m], test_size\u001b[38;5;241m=\u001b[39m\u001b[38;5;241m0.33\u001b[39m, random_state\u001b[38;5;241m=\u001b[39m\u001b[38;5;241m42\u001b[39m)\n\u001b[0;32m     25\u001b[0m \u001b[38;5;66;03m#fit model\u001b[39;00m\n\u001b[1;32m---> 26\u001b[0m model\u001b[38;5;241m.\u001b[39mfit(X_train, y_train)\n\u001b[0;32m     27\u001b[0m \u001b[38;5;66;03m#predict\u001b[39;00m\n\u001b[0;32m     28\u001b[0m y_pred \u001b[38;5;241m=\u001b[39m model\u001b[38;5;241m.\u001b[39mpredict(X_test)\n",
      "File \u001b[1;32mc:\\Users\\janva\\anaconda3\\Lib\\site-packages\\sklearn\\base.py:1152\u001b[0m, in \u001b[0;36m_fit_context.<locals>.decorator.<locals>.wrapper\u001b[1;34m(estimator, *args, **kwargs)\u001b[0m\n\u001b[0;32m   1145\u001b[0m     estimator\u001b[38;5;241m.\u001b[39m_validate_params()\n\u001b[0;32m   1147\u001b[0m \u001b[38;5;28;01mwith\u001b[39;00m config_context(\n\u001b[0;32m   1148\u001b[0m     skip_parameter_validation\u001b[38;5;241m=\u001b[39m(\n\u001b[0;32m   1149\u001b[0m         prefer_skip_nested_validation \u001b[38;5;129;01mor\u001b[39;00m global_skip_validation\n\u001b[0;32m   1150\u001b[0m     )\n\u001b[0;32m   1151\u001b[0m ):\n\u001b[1;32m-> 1152\u001b[0m     \u001b[38;5;28;01mreturn\u001b[39;00m fit_method(estimator, \u001b[38;5;241m*\u001b[39margs, \u001b[38;5;241m*\u001b[39m\u001b[38;5;241m*\u001b[39mkwargs)\n",
      "File \u001b[1;32mc:\\Users\\janva\\anaconda3\\Lib\\site-packages\\sklearn\\pipeline.py:423\u001b[0m, in \u001b[0;36mPipeline.fit\u001b[1;34m(self, X, y, **fit_params)\u001b[0m\n\u001b[0;32m    397\u001b[0m \u001b[38;5;250m\u001b[39m\u001b[38;5;124;03m\"\"\"Fit the model.\u001b[39;00m\n\u001b[0;32m    398\u001b[0m \n\u001b[0;32m    399\u001b[0m \u001b[38;5;124;03mFit all the transformers one after the other and transform the\u001b[39;00m\n\u001b[1;32m   (...)\u001b[0m\n\u001b[0;32m    420\u001b[0m \u001b[38;5;124;03m    Pipeline with fitted steps.\u001b[39;00m\n\u001b[0;32m    421\u001b[0m \u001b[38;5;124;03m\"\"\"\u001b[39;00m\n\u001b[0;32m    422\u001b[0m fit_params_steps \u001b[38;5;241m=\u001b[39m \u001b[38;5;28mself\u001b[39m\u001b[38;5;241m.\u001b[39m_check_fit_params(\u001b[38;5;241m*\u001b[39m\u001b[38;5;241m*\u001b[39mfit_params)\n\u001b[1;32m--> 423\u001b[0m Xt \u001b[38;5;241m=\u001b[39m \u001b[38;5;28mself\u001b[39m\u001b[38;5;241m.\u001b[39m_fit(X, y, \u001b[38;5;241m*\u001b[39m\u001b[38;5;241m*\u001b[39mfit_params_steps)\n\u001b[0;32m    424\u001b[0m \u001b[38;5;28;01mwith\u001b[39;00m _print_elapsed_time(\u001b[38;5;124m\"\u001b[39m\u001b[38;5;124mPipeline\u001b[39m\u001b[38;5;124m\"\u001b[39m, \u001b[38;5;28mself\u001b[39m\u001b[38;5;241m.\u001b[39m_log_message(\u001b[38;5;28mlen\u001b[39m(\u001b[38;5;28mself\u001b[39m\u001b[38;5;241m.\u001b[39msteps) \u001b[38;5;241m-\u001b[39m \u001b[38;5;241m1\u001b[39m)):\n\u001b[0;32m    425\u001b[0m     \u001b[38;5;28;01mif\u001b[39;00m \u001b[38;5;28mself\u001b[39m\u001b[38;5;241m.\u001b[39m_final_estimator \u001b[38;5;241m!=\u001b[39m \u001b[38;5;124m\"\u001b[39m\u001b[38;5;124mpassthrough\u001b[39m\u001b[38;5;124m\"\u001b[39m:\n",
      "File \u001b[1;32mc:\\Users\\janva\\anaconda3\\Lib\\site-packages\\sklearn\\pipeline.py:377\u001b[0m, in \u001b[0;36mPipeline._fit\u001b[1;34m(self, X, y, **fit_params_steps)\u001b[0m\n\u001b[0;32m    375\u001b[0m     cloned_transformer \u001b[38;5;241m=\u001b[39m clone(transformer)\n\u001b[0;32m    376\u001b[0m \u001b[38;5;66;03m# Fit or load from cache the current transformer\u001b[39;00m\n\u001b[1;32m--> 377\u001b[0m X, fitted_transformer \u001b[38;5;241m=\u001b[39m fit_transform_one_cached(\n\u001b[0;32m    378\u001b[0m     cloned_transformer,\n\u001b[0;32m    379\u001b[0m     X,\n\u001b[0;32m    380\u001b[0m     y,\n\u001b[0;32m    381\u001b[0m     \u001b[38;5;28;01mNone\u001b[39;00m,\n\u001b[0;32m    382\u001b[0m     message_clsname\u001b[38;5;241m=\u001b[39m\u001b[38;5;124m\"\u001b[39m\u001b[38;5;124mPipeline\u001b[39m\u001b[38;5;124m\"\u001b[39m,\n\u001b[0;32m    383\u001b[0m     message\u001b[38;5;241m=\u001b[39m\u001b[38;5;28mself\u001b[39m\u001b[38;5;241m.\u001b[39m_log_message(step_idx),\n\u001b[0;32m    384\u001b[0m     \u001b[38;5;241m*\u001b[39m\u001b[38;5;241m*\u001b[39mfit_params_steps[name],\n\u001b[0;32m    385\u001b[0m )\n\u001b[0;32m    386\u001b[0m \u001b[38;5;66;03m# Replace the transformer of the step with the fitted\u001b[39;00m\n\u001b[0;32m    387\u001b[0m \u001b[38;5;66;03m# transformer. This is necessary when loading the transformer\u001b[39;00m\n\u001b[0;32m    388\u001b[0m \u001b[38;5;66;03m# from the cache.\u001b[39;00m\n\u001b[0;32m    389\u001b[0m \u001b[38;5;28mself\u001b[39m\u001b[38;5;241m.\u001b[39msteps[step_idx] \u001b[38;5;241m=\u001b[39m (name, fitted_transformer)\n",
      "File \u001b[1;32mc:\\Users\\janva\\anaconda3\\Lib\\site-packages\\joblib\\memory.py:349\u001b[0m, in \u001b[0;36mNotMemorizedFunc.__call__\u001b[1;34m(self, *args, **kwargs)\u001b[0m\n\u001b[0;32m    348\u001b[0m \u001b[38;5;28;01mdef\u001b[39;00m \u001b[38;5;21m__call__\u001b[39m(\u001b[38;5;28mself\u001b[39m, \u001b[38;5;241m*\u001b[39margs, \u001b[38;5;241m*\u001b[39m\u001b[38;5;241m*\u001b[39mkwargs):\n\u001b[1;32m--> 349\u001b[0m     \u001b[38;5;28;01mreturn\u001b[39;00m \u001b[38;5;28mself\u001b[39m\u001b[38;5;241m.\u001b[39mfunc(\u001b[38;5;241m*\u001b[39margs, \u001b[38;5;241m*\u001b[39m\u001b[38;5;241m*\u001b[39mkwargs)\n",
      "File \u001b[1;32mc:\\Users\\janva\\anaconda3\\Lib\\site-packages\\sklearn\\pipeline.py:957\u001b[0m, in \u001b[0;36m_fit_transform_one\u001b[1;34m(transformer, X, y, weight, message_clsname, message, **fit_params)\u001b[0m\n\u001b[0;32m    955\u001b[0m \u001b[38;5;28;01mwith\u001b[39;00m _print_elapsed_time(message_clsname, message):\n\u001b[0;32m    956\u001b[0m     \u001b[38;5;28;01mif\u001b[39;00m \u001b[38;5;28mhasattr\u001b[39m(transformer, \u001b[38;5;124m\"\u001b[39m\u001b[38;5;124mfit_transform\u001b[39m\u001b[38;5;124m\"\u001b[39m):\n\u001b[1;32m--> 957\u001b[0m         res \u001b[38;5;241m=\u001b[39m transformer\u001b[38;5;241m.\u001b[39mfit_transform(X, y, \u001b[38;5;241m*\u001b[39m\u001b[38;5;241m*\u001b[39mfit_params)\n\u001b[0;32m    958\u001b[0m     \u001b[38;5;28;01melse\u001b[39;00m:\n\u001b[0;32m    959\u001b[0m         res \u001b[38;5;241m=\u001b[39m transformer\u001b[38;5;241m.\u001b[39mfit(X, y, \u001b[38;5;241m*\u001b[39m\u001b[38;5;241m*\u001b[39mfit_params)\u001b[38;5;241m.\u001b[39mtransform(X)\n",
      "File \u001b[1;32mc:\\Users\\janva\\anaconda3\\Lib\\site-packages\\sklearn\\utils\\_set_output.py:157\u001b[0m, in \u001b[0;36m_wrap_method_output.<locals>.wrapped\u001b[1;34m(self, X, *args, **kwargs)\u001b[0m\n\u001b[0;32m    155\u001b[0m \u001b[38;5;129m@wraps\u001b[39m(f)\n\u001b[0;32m    156\u001b[0m \u001b[38;5;28;01mdef\u001b[39;00m \u001b[38;5;21mwrapped\u001b[39m(\u001b[38;5;28mself\u001b[39m, X, \u001b[38;5;241m*\u001b[39margs, \u001b[38;5;241m*\u001b[39m\u001b[38;5;241m*\u001b[39mkwargs):\n\u001b[1;32m--> 157\u001b[0m     data_to_wrap \u001b[38;5;241m=\u001b[39m f(\u001b[38;5;28mself\u001b[39m, X, \u001b[38;5;241m*\u001b[39margs, \u001b[38;5;241m*\u001b[39m\u001b[38;5;241m*\u001b[39mkwargs)\n\u001b[0;32m    158\u001b[0m     \u001b[38;5;28;01mif\u001b[39;00m \u001b[38;5;28misinstance\u001b[39m(data_to_wrap, \u001b[38;5;28mtuple\u001b[39m):\n\u001b[0;32m    159\u001b[0m         \u001b[38;5;66;03m# only wrap the first output for cross decomposition\u001b[39;00m\n\u001b[0;32m    160\u001b[0m         return_tuple \u001b[38;5;241m=\u001b[39m (\n\u001b[0;32m    161\u001b[0m             _wrap_data_with_container(method, data_to_wrap[\u001b[38;5;241m0\u001b[39m], X, \u001b[38;5;28mself\u001b[39m),\n\u001b[0;32m    162\u001b[0m             \u001b[38;5;241m*\u001b[39mdata_to_wrap[\u001b[38;5;241m1\u001b[39m:],\n\u001b[0;32m    163\u001b[0m         )\n",
      "File \u001b[1;32mc:\\Users\\janva\\anaconda3\\Lib\\site-packages\\sklearn\\base.py:1152\u001b[0m, in \u001b[0;36m_fit_context.<locals>.decorator.<locals>.wrapper\u001b[1;34m(estimator, *args, **kwargs)\u001b[0m\n\u001b[0;32m   1145\u001b[0m     estimator\u001b[38;5;241m.\u001b[39m_validate_params()\n\u001b[0;32m   1147\u001b[0m \u001b[38;5;28;01mwith\u001b[39;00m config_context(\n\u001b[0;32m   1148\u001b[0m     skip_parameter_validation\u001b[38;5;241m=\u001b[39m(\n\u001b[0;32m   1149\u001b[0m         prefer_skip_nested_validation \u001b[38;5;129;01mor\u001b[39;00m global_skip_validation\n\u001b[0;32m   1150\u001b[0m     )\n\u001b[0;32m   1151\u001b[0m ):\n\u001b[1;32m-> 1152\u001b[0m     \u001b[38;5;28;01mreturn\u001b[39;00m fit_method(estimator, \u001b[38;5;241m*\u001b[39margs, \u001b[38;5;241m*\u001b[39m\u001b[38;5;241m*\u001b[39mkwargs)\n",
      "File \u001b[1;32mc:\\Users\\janva\\anaconda3\\Lib\\site-packages\\sklearn\\compose\\_column_transformer.py:751\u001b[0m, in \u001b[0;36mColumnTransformer.fit_transform\u001b[1;34m(self, X, y)\u001b[0m\n\u001b[0;32m    749\u001b[0m \u001b[38;5;28mself\u001b[39m\u001b[38;5;241m.\u001b[39m_check_n_features(X, reset\u001b[38;5;241m=\u001b[39m\u001b[38;5;28;01mTrue\u001b[39;00m)\n\u001b[0;32m    750\u001b[0m \u001b[38;5;28mself\u001b[39m\u001b[38;5;241m.\u001b[39m_validate_transformers()\n\u001b[1;32m--> 751\u001b[0m \u001b[38;5;28mself\u001b[39m\u001b[38;5;241m.\u001b[39m_validate_column_callables(X)\n\u001b[0;32m    752\u001b[0m \u001b[38;5;28mself\u001b[39m\u001b[38;5;241m.\u001b[39m_validate_remainder(X)\n\u001b[0;32m    754\u001b[0m result \u001b[38;5;241m=\u001b[39m \u001b[38;5;28mself\u001b[39m\u001b[38;5;241m.\u001b[39m_fit_transform(X, y, _fit_transform_one)\n",
      "File \u001b[1;32mc:\\Users\\janva\\anaconda3\\Lib\\site-packages\\sklearn\\compose\\_column_transformer.py:459\u001b[0m, in \u001b[0;36mColumnTransformer._validate_column_callables\u001b[1;34m(self, X)\u001b[0m\n\u001b[0;32m    457\u001b[0m         columns \u001b[38;5;241m=\u001b[39m columns(X)\n\u001b[0;32m    458\u001b[0m     all_columns\u001b[38;5;241m.\u001b[39mappend(columns)\n\u001b[1;32m--> 459\u001b[0m     transformer_to_input_indices[name] \u001b[38;5;241m=\u001b[39m _get_column_indices(X, columns)\n\u001b[0;32m    461\u001b[0m \u001b[38;5;28mself\u001b[39m\u001b[38;5;241m.\u001b[39m_columns \u001b[38;5;241m=\u001b[39m all_columns\n\u001b[0;32m    462\u001b[0m \u001b[38;5;28mself\u001b[39m\u001b[38;5;241m.\u001b[39m_transformer_to_input_indices \u001b[38;5;241m=\u001b[39m transformer_to_input_indices\n",
      "File \u001b[1;32mc:\\Users\\janva\\anaconda3\\Lib\\site-packages\\sklearn\\utils\\__init__.py:403\u001b[0m, in \u001b[0;36m_get_column_indices\u001b[1;34m(X, key)\u001b[0m\n\u001b[0;32m    397\u001b[0m \u001b[38;5;28;01mdef\u001b[39;00m \u001b[38;5;21m_get_column_indices\u001b[39m(X, key):\n\u001b[0;32m    398\u001b[0m \u001b[38;5;250m    \u001b[39m\u001b[38;5;124;03m\"\"\"Get feature column indices for input data X and key.\u001b[39;00m\n\u001b[0;32m    399\u001b[0m \n\u001b[0;32m    400\u001b[0m \u001b[38;5;124;03m    For accepted values of `key`, see the docstring of\u001b[39;00m\n\u001b[0;32m    401\u001b[0m \u001b[38;5;124;03m    :func:`_safe_indexing`.\u001b[39;00m\n\u001b[0;32m    402\u001b[0m \u001b[38;5;124;03m    \"\"\"\u001b[39;00m\n\u001b[1;32m--> 403\u001b[0m     n_columns \u001b[38;5;241m=\u001b[39m X\u001b[38;5;241m.\u001b[39mshape[\u001b[38;5;241m1\u001b[39m]\n\u001b[0;32m    405\u001b[0m     key_dtype \u001b[38;5;241m=\u001b[39m _determine_key_type(key)\n\u001b[0;32m    407\u001b[0m     \u001b[38;5;28;01mif\u001b[39;00m \u001b[38;5;28misinstance\u001b[39m(key, (\u001b[38;5;28mlist\u001b[39m, \u001b[38;5;28mtuple\u001b[39m)) \u001b[38;5;129;01mand\u001b[39;00m \u001b[38;5;129;01mnot\u001b[39;00m key:\n\u001b[0;32m    408\u001b[0m         \u001b[38;5;66;03m# we get an empty list\u001b[39;00m\n",
      "\u001b[1;31mIndexError\u001b[0m: tuple index out of range"
     ]
    }
   ],
   "source": [
    "#import packages\n",
    "from sklearn.pipeline import Pipeline\n",
    "from sklearn.compose import ColumnTransformer\n",
    "from sklearn.preprocessing import MaxAbsScaler\n",
    "from sklearn.feature_extraction.text import TfidfVectorizer\n",
    "from sklearn.neighbors import KNeighborsRegressor\n",
    "\n",
    "\n",
    "featurizer = ColumnTransformer(\n",
    "transformers=[\n",
    "(\"review_clean\", TfidfVectorizer(max_features= 1000), \"review_clean\")\n",
    "],\n",
    "remainder='drop')\n",
    "\n",
    "#model\n",
    "model = Pipeline([\n",
    "('features', featurizer),\n",
    "#('scaler', MaxAbsScaler()),\n",
    "('knn', KNeighborsRegressor(n_neighbors=5))\n",
    "])\n",
    "\n",
    "#split data\n",
    "X_train, X_test, y_train, y_test = train_test_split(df['review_clean'], df['helpful'], test_size=0.33, random_state=42)\n",
    "\n",
    "#fit model\n",
    "model.fit(X_train, y_train)\n",
    "#predict\n",
    "y_pred = model.predict(X_test)\n",
    "\n",
    "#accuracy\n",
    "accuracy_score(y_test, y_pred)"
   ]
  },
  {
   "cell_type": "code",
   "execution_count": null,
   "metadata": {},
   "outputs": [],
   "source": []
  },
  {
   "cell_type": "markdown",
   "metadata": {},
   "source": [
    "# Random forest"
   ]
  }
 ],
 "metadata": {
  "kernelspec": {
   "display_name": "base",
   "language": "python",
   "name": "python3"
  },
  "language_info": {
   "codemirror_mode": {
    "name": "ipython",
    "version": 3
   },
   "file_extension": ".py",
   "mimetype": "text/x-python",
   "name": "python",
   "nbconvert_exporter": "python",
   "pygments_lexer": "ipython3",
   "version": "3.11.4"
  }
 },
 "nbformat": 4,
 "nbformat_minor": 2
}
