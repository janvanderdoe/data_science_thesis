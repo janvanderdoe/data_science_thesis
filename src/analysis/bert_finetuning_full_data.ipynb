{
 "cells": [
  {
   "cell_type": "markdown",
   "metadata": {},
   "source": [
    "This is the training of the BERT models. It returns a list of probabilities for each review used as input for the classification model"
   ]
  },
  {
   "cell_type": "code",
   "execution_count": null,
   "metadata": {},
   "outputs": [],
   "source": [
    "!pip install pandas\n",
    "!pip install simpletransformers"
   ]
  },
  {
   "cell_type": "code",
   "execution_count": null,
   "metadata": {},
   "outputs": [],
   "source": [
    "data = pd.read_csv('review_helpful.csv', sep = \";\")\n",
    "data['review'] = data['review'].fillna('')"
   ]
  },
  {
   "cell_type": "code",
   "execution_count": null,
   "metadata": {},
   "outputs": [],
   "source": [
    "data['review'] = data['review'].str.lower()"
   ]
  },
  {
   "cell_type": "code",
   "execution_count": null,
   "metadata": {},
   "outputs": [],
   "source": [
    "(data['helpful'] != 0).astype(int)"
   ]
  },
  {
   "cell_type": "code",
   "execution_count": null,
   "metadata": {},
   "outputs": [],
   "source": [
    "data = pd.DataFrame({'text': data['review'], 'labels': data['helpful']})"
   ]
  },
  {
   "cell_type": "code",
   "execution_count": null,
   "metadata": {},
   "outputs": [],
   "source": [
    "from sklearn.model_selection import train_test_split\n",
    "train_df, val_df = train_test_split(data, test_size=0.4, random_state=42)\n",
    "val_df, test_df = train_test_split(val_df, test_size=0.5, random_state=42)"
   ]
  },
  {
   "cell_type": "code",
   "execution_count": null,
   "metadata": {},
   "outputs": [],
   "source": [
    "from simpletransformers.classification import ClassificationModel\n",
    "from simpletransformers.classification import ClassificationArgs\n",
    "model_args = ClassificationArgs(\n",
    "    use_multiprocessing=False,\n",
    "    use_multiprocessing_for_evaluation=False,\n",
    "    max_seq_length=128,\n",
    "    eval_batch_size=256\n",
    ")\n",
    "# Create a TransformerModel\n",
    "\n",
    "#model = ClassificationModel('bert', 'bert-base-uncased', args=model_args, use_cuda=True)\n",
    "#model = ClassificationModel('roberta', 'roberta-large', args=model_args, use_cuda = True)\n",
    "model = ClassificationModel('roberta', 'roberta-base', args=model_args, use_cuda=True)\n",
    "#model = ClassificationModel('bert', 'bert-large-uncased', args=model_args, use_cuda=True)\n",
    "#model = ClassificationModel('distilbert', 'distilbert-base-uncased', args=model_args, use_cuda=True)\n",
    "#model = ClassificationModel('albert', 'albert-base-v2', args=model_args, use_cuda=True)"
   ]
  },
  {
   "cell_type": "code",
   "execution_count": null,
   "metadata": {},
   "outputs": [],
   "source": [
    "import os\n",
    "#os.environ[\"OMP_NUM_THREADS\"] = \"1\""
   ]
  },
  {
   "cell_type": "code",
   "execution_count": null,
   "metadata": {},
   "outputs": [],
   "source": [
    "os.environ[\"TOKENIZERS_PARALLELISM\"] = \"false\""
   ]
  },
  {
   "cell_type": "code",
   "execution_count": null,
   "metadata": {},
   "outputs": [],
   "source": [
    "history = model.train_model(train_df, args={'num_train_epochs': 2, 'learning_rate': 3e-5, 'overwrite_output_dir': True,  'train_batch_size' : 256})"
   ]
  },
  {
   "cell_type": "code",
   "execution_count": null,
   "metadata": {},
   "outputs": [],
   "source": [
    "result_train, model_outputs_train, wrong_predictions_train = model.eval_model(train_df)\n",
    "result_val, model_outputs_val, wrong_predictions_val = model.eval_model(val_df)"
   ]
  },
  {
   "cell_type": "markdown",
   "metadata": {
    "jp-MarkdownHeadingCollapsed": true
   },
   "source": [
    "# Save model predictions"
   ]
  },
  {
   "cell_type": "code",
   "execution_count": null,
   "metadata": {},
   "outputs": [],
   "source": [
    "result, model_outputs, wrong_predictions = model.eval_model(data)"
   ]
  },
  {
   "cell_type": "code",
   "execution_count": null,
   "metadata": {},
   "outputs": [],
   "source": [
    "model_outputs_data = pd.concat([data, pd.DataFrame(model_outputs)], axis = 1)"
   ]
  },
  {
   "cell_type": "code",
   "execution_count": null,
   "metadata": {},
   "outputs": [],
   "source": [
    "model_outputs_data.to_csv('model_outputs_data.csv', sep = \";\")"
   ]
  },
  {
   "cell_type": "markdown",
   "metadata": {},
   "source": [
    "# Get model performance"
   ]
  },
  {
   "cell_type": "code",
   "execution_count": null,
   "metadata": {},
   "outputs": [],
   "source": [
    "#results = pd.DataFrame(result_val, index = [0])\n",
    "results['train_loss'] = result_train['eval_loss']\n",
    "results['name'] = 'bert-base-uncased'\n",
    "results['train_accuracy'] = result_train['accuracy']\n",
    "#results['seq_length'] = 64"
   ]
  },
  {
   "cell_type": "code",
   "execution_count": null,
   "metadata": {},
   "outputs": [],
   "source": [
    "results_new = pd.DataFrame(result_val, index = [0])\n",
    "results_new['train_loss'] = result_train['eval_loss']\n",
    "results_new['train_accuracy'] = result_train['accuracy']\n",
    "results_new['name'] = 'roberta-base'\n",
    "#results_new['seq_length'] = 512\n",
    "results = pd.concat([results, results_new])"
   ]
  },
  {
   "cell_type": "code",
   "execution_count": null,
   "metadata": {},
   "outputs": [],
   "source": [
    "results.reset_index(drop = True, inplace = True)"
   ]
  },
  {
   "cell_type": "code",
   "execution_count": null,
   "metadata": {},
   "outputs": [],
   "source": [
    "results.to_csv('roberta_seq_length.csv', sep = \";\")"
   ]
  },
  {
   "cell_type": "code",
   "execution_count": null,
   "metadata": {},
   "outputs": [],
   "source": [
    "model.save_model(\"./roberto\")"
   ]
  }
 ],
 "metadata": {
  "kernelspec": {
   "display_name": "Python 3 (ipykernel)",
   "language": "python",
   "name": "python3"
  },
  "language_info": {
   "codemirror_mode": {
    "name": "ipython",
    "version": 3
   },
   "file_extension": ".py",
   "mimetype": "text/x-python",
   "name": "python",
   "nbconvert_exporter": "python",
   "pygments_lexer": "ipython3",
   "version": "3.10.13"
  }
 },
 "nbformat": 4,
 "nbformat_minor": 4
}
