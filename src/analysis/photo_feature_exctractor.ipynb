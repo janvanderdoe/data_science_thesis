{
 "cells": [
  {
   "cell_type": "code",
   "execution_count": 2,
   "metadata": {},
   "outputs": [],
   "source": [
    "#retrieve the height and width of the images in profile_photos_category\n",
    "import os\n",
    "from PIL import Image\n",
    "import re\n",
    "import requests\n",
    "import time\n",
    "#get a list of all images\n",
    "images = os.listdir('../../gen/output/profile_photos_category')\n"
   ]
  },
  {
   "cell_type": "markdown",
   "metadata": {},
   "source": [
    "# Upgrade images with smaller size and remove invalid images\n",
    "The webscraper did not always catch the highest image quality because it assumed everything was jpg. Hence, a correct on 229 images.\n",
    "Also 29 images could not be retrieved for reasons unknown. They were removed"
   ]
  },
  {
   "cell_type": "code",
   "execution_count": 22,
   "metadata": {},
   "outputs": [
    {
     "name": "stdout",
     "output_type": "stream",
     "text": [
      "Error with image: 0194lik9a9L._CR0,0,59,59_UX110_.jpg\n",
      "Error with image: 01NP008ERhL._CR0,0,80,80_UX110_.jpg\n",
      "Error with image: 01Y1SZxnw1L._CR0,0,16,16_UX110_.jpg\n",
      "Error with image: 116L62Q4+EL._CR0,0,100,100_UX110_.gif\n",
      "Error with image: 118Jt8HnieL._CR0,0,85,85_UX110_.jpg\n",
      "Error with image: 11ddwUGlrCL._CR0,0,90,90_UX110_.jpg\n",
      "Error with image: 11IxmugY0sL._CR0,1.0,105,105_UX110_.jpg\n",
      "Error with image: 11MaShAAH8L._CR12,0,75,75_UX110_.jpg\n",
      "Error with image: 11ONLNZqY2L._CR0,0,100,100_UX110_.jpg\n",
      "Error with image: 11oPegvylWL._CR0,0,78,78_UX110_.jpg\n",
      "Error with image: 11P11y-54ZL._CR0,0,91,91_UX110_.jpg\n",
      "Error with image: 11Pxk6BjX3L._CR0,0,96,96_UX110_.jpg\n",
      "Error with image: 11qzx+5VCeL._CR0,0,100,100_UX110_.jpg\n",
      "Error with image: 11WzdfbuBUL._CR0,0,80,80_UX110_.jpg\n",
      "Error with image: 11xSLn1F1WL._CR0,0,100,100_UX110_.jpg\n",
      "Error with image: 21-x66L1imL._CR4,0,99,99_UX110_.jpg\n",
      "Error with image: 31UI1Un2PcL._CR0,0,100,100_UX110_.png\n",
      "Error with image: 41AYrZ9EgLL._CR0,0,420,420_SX48_.png\n",
      "Error with image: 41v+RyCSBtL._CR0,0,63,63_UX110_.jpg\n",
      "Error with image: 51Dbn-TDnYL._CR0,0,128,128_SX48_.png\n",
      "Error with image: 51lmC8GYJgL._CR0,0,80,80_UX110_.jpg\n",
      "Error with image: 51xN5ZpFXYL._CR0,60.0,128,128_SX48_.png\n",
      "Error with image: 61F1+fLpcUL._CR0,0,436,436_SX48_.gif\n",
      "Error with image: 61KVuyH+rRL._CR0,0,224,224_SX48_.png\n",
      "Error with image: 61o0eZFI+pL._CR0,0,250,250_SX48_.png\n",
      "Error with image: 81PAT8FhjEL._CR13,0,473,473_SX48_.png\n",
      "Error with image: 896d43d9-845e-44ce-8835-ac0586d6a36d._CR328,0,843,843_UX460_.jpg\n",
      "Error with image: 91kJrtokZnL._CR0,0,500,500_SX48_.png\n",
      "Error with image: e5c56b00-af80-4858-94f3-1ac55db919da._CR0,0,500,500_UX460_.jpg\n"
     ]
    }
   ],
   "source": [
    "invalid_images = []\n",
    "error_images = []\n",
    "#get all the images in the directory\n",
    "#get the height and width of each image in images\n",
    "for image in images:\n",
    "    try:\n",
    "        with Image.open('../../gen/output/profile_photos_category/' + image) as img:\n",
    "            width, height = img.size\n",
    "            #print images with an image size that is unequal to 460x460\n",
    "            if width != 460 or height != 460:\n",
    "                print(image, width, height)\n",
    "                invalid_images.append(image)\n",
    "\n",
    "    except:\n",
    "        print('Error with image: ' + image)\n",
    "        error_images.append(image)\n",
    "        continue"
   ]
  },
  {
   "cell_type": "code",
   "execution_count": 21,
   "metadata": {},
   "outputs": [
    {
     "data": {
      "text/plain": [
       "0"
      ]
     },
     "execution_count": 21,
     "metadata": {},
     "output_type": "execute_result"
    }
   ],
   "source": [
    "len(invalid_images)"
   ]
  },
  {
   "cell_type": "code",
   "execution_count": 18,
   "metadata": {},
   "outputs": [],
   "source": [
    "for pf_link in invalid_images:\n",
    "    try:\n",
    "        pf_link_clean = \"https://images-na.ssl-images-amazon.com/images/S/amazon-avatars-global/\"+ re.sub(r'(_[A-Z]{2}\\d+_)', '_UX460_', pf_link)\n",
    "        r = requests.get(pf_link_clean)\n",
    "        with open(f\"../../gen/output/profile_photos_category/\"+pf_link, \"wb\") as f:\n",
    "            f.write(r.content)\n",
    "        time.sleep(0.1)\n",
    "    except:\n",
    "        print(f\"error with {pf_link}\")"
   ]
  },
  {
   "cell_type": "code",
   "execution_count": 23,
   "metadata": {},
   "outputs": [
    {
     "data": {
      "text/plain": [
       "29"
      ]
     },
     "execution_count": 23,
     "metadata": {},
     "output_type": "execute_result"
    }
   ],
   "source": [
    "len(error_images)"
   ]
  },
  {
   "cell_type": "code",
   "execution_count": 24,
   "metadata": {},
   "outputs": [],
   "source": [
    "#remove error images\n",
    "for image in error_images:\n",
    "    #os.remove('../../gen/output/profile_photos_category/' + image)"
   ]
  },
  {
   "cell_type": "code",
   "execution_count": 27,
   "metadata": {},
   "outputs": [
    {
     "ename": "ModuleNotFoundError",
     "evalue": "No module named 'mtcnn'",
     "output_type": "error",
     "traceback": [
      "\u001b[1;31m---------------------------------------------------------------------------\u001b[0m",
      "\u001b[1;31mModuleNotFoundError\u001b[0m                       Traceback (most recent call last)",
      "Cell \u001b[1;32mIn[27], line 1\u001b[0m\n\u001b[1;32m----> 1\u001b[0m \u001b[38;5;28;01mfrom\u001b[39;00m \u001b[38;5;21;01mmtcnn\u001b[39;00m \u001b[38;5;28;01mimport\u001b[39;00m MTCNN\n\u001b[0;32m      2\u001b[0m \u001b[38;5;28;01mimport\u001b[39;00m \u001b[38;5;21;01mcv2\u001b[39;00m\n",
      "\u001b[1;31mModuleNotFoundError\u001b[0m: No module named 'mtcnn'"
     ]
    }
   ],
   "source": [
    "#gif to jpg\n",
    "gif_images = [image for image in images if image.endswith('.gif')]\n"
   ]
  },
  {
   "cell_type": "code",
   "execution_count": null,
   "metadata": {},
   "outputs": [],
   "source": [
    "#pip install zipfile\n",
    "\n"
   ]
  },
  {
   "cell_type": "code",
   "execution_count": null,
   "metadata": {},
   "outputs": [],
   "source": [
    "#unzip the folder \n",
    "import zipfile\n",
    "\n",
    "with zipfile.ZipFile('../../gen/output/profile_photos_category.zip', 'r') as zip_ref:\n",
    "    zip_ref.extractall('../../gen/output/profile_photos_category')\n",
    "\n",
    "#pip install zipfile\n"
   ]
  },
  {
   "cell_type": "code",
   "execution_count": 32,
   "metadata": {},
   "outputs": [
    {
     "name": "stdout",
     "output_type": "stream",
     "text": [
      "Downloading data from https://storage.googleapis.com/tensorflow/keras-applications/vgg16/vgg16_weights_tf_dim_ordering_tf_kernels.h5\n",
      "553467096/553467096 [==============================] - 106s 0us/step\n",
      "1/1 [==============================] - 2s 2s/step\n"
     ]
    },
    {
     "name": "stderr",
     "output_type": "stream",
     "text": [
      "C:\\Users\\janva\\AppData\\Local\\Temp\\ipykernel_14732\\2736180323.py:24: FutureWarning: The frame.append method is deprecated and will be removed from pandas in a future version. Use pandas.concat instead.\n",
      "  df = df.append({'image': img_d, 'features': vgg16_feature}, ignore_index=True)\n"
     ]
    },
    {
     "name": "stdout",
     "output_type": "stream",
     "text": [
      "1/1 [==============================] - 1s 529ms/step\n"
     ]
    },
    {
     "name": "stderr",
     "output_type": "stream",
     "text": [
      "C:\\Users\\janva\\AppData\\Local\\Temp\\ipykernel_14732\\2736180323.py:24: FutureWarning: The frame.append method is deprecated and will be removed from pandas in a future version. Use pandas.concat instead.\n",
      "  df = df.append({'image': img_d, 'features': vgg16_feature}, ignore_index=True)\n"
     ]
    },
    {
     "name": "stdout",
     "output_type": "stream",
     "text": [
      "1/1 [==============================] - 0s 495ms/step\n"
     ]
    },
    {
     "name": "stderr",
     "output_type": "stream",
     "text": [
      "C:\\Users\\janva\\AppData\\Local\\Temp\\ipykernel_14732\\2736180323.py:24: FutureWarning: The frame.append method is deprecated and will be removed from pandas in a future version. Use pandas.concat instead.\n",
      "  df = df.append({'image': img_d, 'features': vgg16_feature}, ignore_index=True)\n"
     ]
    },
    {
     "name": "stdout",
     "output_type": "stream",
     "text": [
      "1/1 [==============================] - 1s 510ms/step\n"
     ]
    },
    {
     "name": "stderr",
     "output_type": "stream",
     "text": [
      "C:\\Users\\janva\\AppData\\Local\\Temp\\ipykernel_14732\\2736180323.py:24: FutureWarning: The frame.append method is deprecated and will be removed from pandas in a future version. Use pandas.concat instead.\n",
      "  df = df.append({'image': img_d, 'features': vgg16_feature}, ignore_index=True)\n"
     ]
    },
    {
     "name": "stdout",
     "output_type": "stream",
     "text": [
      "1/1 [==============================] - 1s 541ms/step\n"
     ]
    },
    {
     "name": "stderr",
     "output_type": "stream",
     "text": [
      "C:\\Users\\janva\\AppData\\Local\\Temp\\ipykernel_14732\\2736180323.py:24: FutureWarning: The frame.append method is deprecated and will be removed from pandas in a future version. Use pandas.concat instead.\n",
      "  df = df.append({'image': img_d, 'features': vgg16_feature}, ignore_index=True)\n"
     ]
    },
    {
     "name": "stdout",
     "output_type": "stream",
     "text": [
      "1/1 [==============================] - 1s 519ms/step\n"
     ]
    },
    {
     "name": "stderr",
     "output_type": "stream",
     "text": [
      "C:\\Users\\janva\\AppData\\Local\\Temp\\ipykernel_14732\\2736180323.py:24: FutureWarning: The frame.append method is deprecated and will be removed from pandas in a future version. Use pandas.concat instead.\n",
      "  df = df.append({'image': img_d, 'features': vgg16_feature}, ignore_index=True)\n"
     ]
    },
    {
     "name": "stdout",
     "output_type": "stream",
     "text": [
      "1/1 [==============================] - 0s 493ms/step\n"
     ]
    },
    {
     "name": "stderr",
     "output_type": "stream",
     "text": [
      "C:\\Users\\janva\\AppData\\Local\\Temp\\ipykernel_14732\\2736180323.py:24: FutureWarning: The frame.append method is deprecated and will be removed from pandas in a future version. Use pandas.concat instead.\n",
      "  df = df.append({'image': img_d, 'features': vgg16_feature}, ignore_index=True)\n"
     ]
    },
    {
     "name": "stdout",
     "output_type": "stream",
     "text": [
      "1/1 [==============================] - 0s 482ms/step\n"
     ]
    },
    {
     "name": "stderr",
     "output_type": "stream",
     "text": [
      "C:\\Users\\janva\\AppData\\Local\\Temp\\ipykernel_14732\\2736180323.py:24: FutureWarning: The frame.append method is deprecated and will be removed from pandas in a future version. Use pandas.concat instead.\n",
      "  df = df.append({'image': img_d, 'features': vgg16_feature}, ignore_index=True)\n"
     ]
    },
    {
     "name": "stdout",
     "output_type": "stream",
     "text": [
      "1/1 [==============================] - 0s 484ms/step\n"
     ]
    },
    {
     "name": "stderr",
     "output_type": "stream",
     "text": [
      "C:\\Users\\janva\\AppData\\Local\\Temp\\ipykernel_14732\\2736180323.py:24: FutureWarning: The frame.append method is deprecated and will be removed from pandas in a future version. Use pandas.concat instead.\n",
      "  df = df.append({'image': img_d, 'features': vgg16_feature}, ignore_index=True)\n"
     ]
    },
    {
     "name": "stdout",
     "output_type": "stream",
     "text": [
      "1/1 [==============================] - 0s 468ms/step\n"
     ]
    },
    {
     "name": "stderr",
     "output_type": "stream",
     "text": [
      "C:\\Users\\janva\\AppData\\Local\\Temp\\ipykernel_14732\\2736180323.py:24: FutureWarning: The frame.append method is deprecated and will be removed from pandas in a future version. Use pandas.concat instead.\n",
      "  df = df.append({'image': img_d, 'features': vgg16_feature}, ignore_index=True)\n"
     ]
    }
   ],
   "source": [
    "#extract features using vgg-16\n",
    "import tensorflow as tf\n",
    "from tensorflow.keras.applications.vgg16 import VGG16\n",
    "from tensorflow.keras.applications.vgg16 import preprocess_input\n",
    "from tensorflow.keras.preprocessing import image\n",
    "from tensorflow.keras.models import Model\n",
    "import numpy as np\n",
    "import os\n",
    "import pandas as pd\n",
    "\n",
    "#load the model\n",
    "model = VGG16(weights='imagenet', include_top=True)\n",
    "#model = Model(inputs=model.input, outputs=model.get_layer('fc2').output)\n",
    "#make a dataframe with first column image name and second column image features\n",
    "df = pd.DataFrame(columns=['image', 'features'])\n",
    "#extract features\n",
    "for img_d in images[0:10]:\n",
    "    try:\n",
    "        img = image.load_img('../../gen/output/profile_photos_category/' + img_d, target_size=(224, 224))\n",
    "        img_data = image.img_to_array(img)\n",
    "        img_data = np.expand_dims(img_data, axis=0)\n",
    "        img_data = preprocess_input(img_data)\n",
    "        vgg16_feature = model.predict(img_data)\n",
    "        df = df.append({'image': img_d, 'features': vgg16_feature}, ignore_index=True)\n",
    "    except:\n",
    "        print('Error with image: ' + image)\n",
    "        continue"
   ]
  },
  {
   "cell_type": "markdown",
   "metadata": {},
   "source": [
    "# consumer photos\n",
    "113 with an image size that is too small, as the original image is too small"
   ]
  },
  {
   "cell_type": "code",
   "execution_count": 3,
   "metadata": {},
   "outputs": [],
   "source": [
    "# load consumer photos\n",
    "cp_photos = os.listdir('../../gen/output/consumer_photos_category')"
   ]
  },
  {
   "cell_type": "code",
   "execution_count": 37,
   "metadata": {},
   "outputs": [
    {
     "name": "stdout",
     "output_type": "stream",
     "text": [
      "017UGkhnC6L._SL1600_.jpg 161 60\n",
      "01MC0VgxI+L._SL1600_.jpg 85 78\n",
      "01oHJ0IV7mL._SL1600_.jpg 120 160\n",
      "01q7DqkTOzL._SL1600_.jpg 180 180\n",
      "114oVXiOAQL._SL1600_.jpg 120 160\n",
      "118z9uhhx7L._SL1600_.jpg 120 160\n",
      "119eqIz9dJL._SL1600_.jpg 117 88\n",
      "11b0+HLKmiL._SL1600_.jpg 187 206\n",
      "11DfTR6827L._SL1600_.jpg 117 88\n",
      "11e9y-iP+WL._SL1600_.jpg 140 80\n",
      "11es58wAZEL._SL1600_.jpg 120 90\n",
      "11f7TC9vTdL._SL1600_.jpg 120 120\n",
      "11FXylgubdL._SL1600_.jpg 173 32\n",
      "11iA7I8xpjL._SL1600_.jpg 117 88\n",
      "11Jex6Y1qgL._SL1600_.jpg 120 160\n",
      "11jQlWRHoAL._SL1600_.jpg 120 160\n",
      "11MmclLxykL._SL1600_.jpg 160 120\n",
      "11NZTplYn+L._SL1600_.jpg 120 160\n",
      "11PI2nDlpqL._SL1600_.jpg 120 160\n",
      "11VfGw8Z04L._SL1600_.jpg 263 95\n",
      "11Vz9chhLDL._SL1600_.jpg 223 201\n",
      "11WO7O3MHbL._SL1600_.jpg 160 120\n",
      "21-ry0raaPL._SL1600_.jpg 180 240\n",
      "210e90ej+AL._SL1600_.jpg 300 128\n",
      "212mGrWkYcL._SL1600_.jpg 180 240\n",
      "212OK42kgkL._SL1600_.jpg 180 240\n",
      "215M9Dn+mZL._SL1600_.jpg 261 195\n",
      "215QK6HGVQL._SL1600_.jpg 193 256\n",
      "215xxPp4gYL._SL1600_.jpg 155 206\n",
      "216H4MF+6FL._SL1600_.jpg 325 154\n",
      "217k7rwnrHL._SL1600_.jpg 236 85\n",
      "21BsYB5KifL._SL1600_.jpg 180 240\n",
      "21DGwezLgEL._SL1600_.jpg 322 141\n",
      "21EaoLThu3L._SL1600_.jpg 222 166\n",
      "21fBq5+xCSL._SL1600_.jpg 445 110\n",
      "21FUpEDwR7L._SL1600_.jpg 347 220\n",
      "21G2VSHk0qL._SL1600_.jpg 120 160\n",
      "21HnkQDxyjL._SL1600_.jpg 192 238\n",
      "21HVP7hGWoL._SL1600_.jpg 130 378\n",
      "21I9fqcoESL._SL1600_.jpg 372 206\n",
      "21Kw2bsFvPL._SL1600_.jpg 210 210\n",
      "21MuqLRB3pL._SL1600_.jpg 180 240\n",
      "21OWwCYN5DL._SL1600_.jpg 186 248\n",
      "21pkreIZhaL._SL1600_.jpg 372 217\n",
      "21pL6mN0i1L._SL1600_.jpg 258 179\n",
      "21q8T3ePetL._SL1600_.jpg 180 240\n",
      "21QgmW+nhzL._SL1600_.jpg 180 180\n",
      "21UlXPxE+mL._SL1600_.jpg 180 240\n",
      "21WBtD8c46L._SL1600_.jpg 234 324\n",
      "21xjlzEHgaL._SL1600_.jpg 155 206\n",
      "21xvzYJ8QdL._SL1600_.jpg 319 223\n",
      "31++C05HzRL._SL1600_.jpg 259 194\n",
      "31+tNnwOq-L._SL1600_.jpg 640 239\n",
      "3111tRNI28L._SL1600_.jpg 225 225\n",
      "317--PfavML._SL1600_.jpg 600 182\n",
      "319vm5iCfcL._SL1600_.jpg 239 168\n",
      "31aWLlHge4L._SL1600_.jpg 322 180\n",
      "31EJ4m7FxpL._SL1600_.jpg 246 220\n",
      "31FYqs6bu9L._SL1600_.jpg 915 140\n",
      "31G95nUMpwL._SL1600_.jpg 346 206\n",
      "31gIKj5r0gL._SL1600_.jpg 214 362\n",
      "31GzK-BbHXL._SL1600_.jpg 225 500\n",
      "31HB1vqBFgL._SL1600_.jpg 167 439\n",
      "31hCzM6MBCL._SL1600_.jpg 203 595\n",
      "31IJeL5eiqL._SL1600_.jpg 129 548\n",
      "31KOjUZckDL._SL1600_.jpg 400 223\n",
      "31kQdw++IGL._SL1600_.jpg 239 509\n",
      "31l6-c2zogL._SL1600_.jpg 574 219\n",
      "31OaNJFPEDL._SL1600_.jpg 341 189\n",
      "31OiAnLKi6L._SL1600_.jpg 265 200\n",
      "31qpqQsN4ML._SL1600_.jpg 244 214\n",
      "31RcbPiZMhL._SL1600_.jpg 747 144\n",
      "31rlmIz6GTL._SL1600_.jpg 146 320\n",
      "31s50PKXMNL._SL1600_.jpg 236 177\n",
      "31T6XkjKl-L._SL1600_.jpg 267 189\n",
      "31TUw5U8RVL._SL1600_.jpg 207 244\n",
      "31UExcAeGYL._SL1600_.jpg 438 120\n",
      "31V+NXGAzWL._SL1600_.jpg 235 320\n",
      "31VW+hmYI3L._SL1600_.jpg 256 193\n",
      "31vW7CUYjPL._SL1600_.jpg 635 238\n",
      "31w71bqyXXL._SL1600_.jpg 251 173\n",
      "31xCN+g-X+L._SL1600_.jpg 144 320\n",
      "31XV1yxqoqL._SL1600_.jpg 157 301\n",
      "31Y70MbBlpL._SL1600_.jpg 180 320\n",
      "31YSPQab5wL._SL1600_.jpg 320 234\n",
      "31ziQ1ESAUL._SL1600_.jpg 363 191\n",
      "31ZoSt1aFnL._SL1600_.jpg 379 239\n",
      "412p5wL2qrL._SL1600_.jpg 203 629\n",
      "413w4GE8wML._SL1600_.jpg 210 320\n",
      "417TIJ4FgAL._SL1600_.jpg 864 234\n",
      "41aYt5xU-uL._SL1600_.jpg 461 131\n",
      "41b0jKGXOEL._SL1600_.jpg 855 220\n",
      "41Dm67NQijL._SL1600_.jpg 500 184\n",
      "41e4dDHRPCL._SL1600_.jpg 219 292\n",
      "41eEz7YqXeL._SL1600_.jpg 500 177\n",
      "41EkUWlRJSL._SL1600_.jpg 205 545\n",
      "41Fag4QYmFL._SL1600_.jpg 182 898\n",
      "41Gsf5maG3L._SL1600_.jpg 234 671\n",
      "41hO65eIPiL._SL1600_.jpg 202 728\n",
      "41kqV7xvBdL._SL1600_.jpg 161 834\n",
      "41r+QusQzKL._SL1600_.jpg 223 558\n",
      "41SngQ-txzL._SL1600_.jpg 449 207\n",
      "41u4DNI4caL._SL1600_.jpg 235 424\n",
      "41UFTiR-0nL._SL1600_.jpg 867 141\n",
      "41WgpCYk74L._SL1600_.jpg 709 229\n",
      "41zNWe9fC1L._SL1600_.jpg 214 1032\n",
      "51DjbS8xejL._SY88.png 99 88\n",
      "51FGGXbCLOL._SL1600_.jpg 1600 235\n",
      "51i5IattBUL._SL1600_.jpg 1600 230\n",
      "51S5NgdoTRL._SL1600_.jpg 557 231\n",
      "51xpP6egmqL._SL1600_.jpg 1244 174\n",
      "71I9cs-zfzL._SY88.png 41 88\n",
      "91kA5Q-H3dL._SY88.png 45 88\n"
     ]
    }
   ],
   "source": [
    "invalid_images = []\n",
    "error_images = []\n",
    "#get all the images in the directory\n",
    "#get the height and width of each image in images\n",
    "for image in cp_photos:\n",
    "    try:\n",
    "        with Image.open('../../gen/output/consumer_photos_category/' + image) as img:\n",
    "            width, height = img.size\n",
    "            #print images with an image size that is unequal to 460x460\n",
    "            if width <240 or height <240:\n",
    "                print(image, width, height)\n",
    "                invalid_images.append(image)\n",
    "\n",
    "    except:\n",
    "        print('Error with image: ' + image)\n",
    "        error_images.append(image)\n",
    "        continue"
   ]
  },
  {
   "cell_type": "code",
   "execution_count": 38,
   "metadata": {},
   "outputs": [
    {
     "name": "stdout",
     "output_type": "stream",
     "text": [
      "113\n",
      "0\n",
      "26104\n"
     ]
    }
   ],
   "source": [
    "print(len(invalid_images))\n",
    "print(len(error_images))\n",
    "print(len(cp_photos))"
   ]
  },
  {
   "cell_type": "code",
   "execution_count": 40,
   "metadata": {},
   "outputs": [
    {
     "data": {
      "text/plain": [
       "(1200, 1600)"
      ]
     },
     "execution_count": 40,
     "metadata": {},
     "output_type": "execute_result"
    }
   ],
   "source": [
    "img.size"
   ]
  },
  {
   "cell_type": "code",
   "execution_count": 4,
   "metadata": {},
   "outputs": [],
   "source": [
    "img_sizes = []\n",
    "for image in cp_photos:\n",
    "    try:\n",
    "        with Image.open('../../gen/output/consumer_photos_category/' + image) as img:\n",
    "            img_sizes.append(img.size)\n",
    "    except:\n",
    "        print('Error with image: ' + image)\n",
    "        continue"
   ]
  },
  {
   "cell_type": "code",
   "execution_count": 6,
   "metadata": {},
   "outputs": [
    {
     "data": {
      "text/html": [
       "<div>\n",
       "<style scoped>\n",
       "    .dataframe tbody tr th:only-of-type {\n",
       "        vertical-align: middle;\n",
       "    }\n",
       "\n",
       "    .dataframe tbody tr th {\n",
       "        vertical-align: top;\n",
       "    }\n",
       "\n",
       "    .dataframe thead th {\n",
       "        text-align: right;\n",
       "    }\n",
       "</style>\n",
       "<table border=\"1\" class=\"dataframe\">\n",
       "  <thead>\n",
       "    <tr style=\"text-align: right;\">\n",
       "      <th></th>\n",
       "      <th>size</th>\n",
       "      <th>frequency</th>\n",
       "    </tr>\n",
       "  </thead>\n",
       "  <tbody>\n",
       "    <tr>\n",
       "      <th>3</th>\n",
       "      <td>(1200, 1600)</td>\n",
       "      <td>9982</td>\n",
       "    </tr>\n",
       "    <tr>\n",
       "      <th>7</th>\n",
       "      <td>Other size</td>\n",
       "      <td>9155</td>\n",
       "    </tr>\n",
       "    <tr>\n",
       "      <th>6</th>\n",
       "      <td>(1600, 1200)</td>\n",
       "      <td>3561</td>\n",
       "    </tr>\n",
       "    <tr>\n",
       "      <th>2</th>\n",
       "      <td>(900, 1600)</td>\n",
       "      <td>1133</td>\n",
       "    </tr>\n",
       "    <tr>\n",
       "      <th>0</th>\n",
       "      <td>(739, 1600)</td>\n",
       "      <td>975</td>\n",
       "    </tr>\n",
       "    <tr>\n",
       "      <th>4</th>\n",
       "      <td>(1414, 1414)</td>\n",
       "      <td>502</td>\n",
       "    </tr>\n",
       "    <tr>\n",
       "      <th>5</th>\n",
       "      <td>(1600, 900)</td>\n",
       "      <td>491</td>\n",
       "    </tr>\n",
       "    <tr>\n",
       "      <th>1</th>\n",
       "      <td>(740, 1600)</td>\n",
       "      <td>305</td>\n",
       "    </tr>\n",
       "  </tbody>\n",
       "</table>\n",
       "</div>"
      ],
      "text/plain": [
       "           size  frequency\n",
       "3  (1200, 1600)       9982\n",
       "7    Other size       9155\n",
       "6  (1600, 1200)       3561\n",
       "2   (900, 1600)       1133\n",
       "0   (739, 1600)        975\n",
       "4  (1414, 1414)        502\n",
       "5   (1600, 900)        491\n",
       "1   (740, 1600)        305"
      ]
     },
     "execution_count": 6,
     "metadata": {},
     "output_type": "execute_result"
    }
   ],
   "source": [
    "#get a frequency table of img_sizes. Frequency under 1 under 'other' category\n",
    "from collections import Counter\n",
    "import pandas as pd\n",
    "counter = Counter(img_sizes)\n",
    "#put the counter in a dataframe\n",
    "df = pd.DataFrame.from_dict(counter, orient='index').reset_index()\n",
    "df.columns = ['size', 'frequency']\n",
    "#put any frequency less than 5 in the 'other' category\n",
    "df.loc[df['frequency'] < 300, 'size'] = 'Other size'\n",
    "#collapse the dataframe to get the frequency of each size\n",
    "df = df.groupby('size').sum().reset_index()\n",
    "#sort the dataframe by frequency\n",
    "df = df.sort_values(by='frequency', ascending=False)\n",
    "df"
   ]
  }
 ],
 "metadata": {
  "kernelspec": {
   "display_name": "base",
   "language": "python",
   "name": "python3"
  },
  "language_info": {
   "codemirror_mode": {
    "name": "ipython",
    "version": 3
   },
   "file_extension": ".py",
   "mimetype": "text/x-python",
   "name": "python",
   "nbconvert_exporter": "python",
   "pygments_lexer": "ipython3",
   "version": "3.11.4"
  }
 },
 "nbformat": 4,
 "nbformat_minor": 2
}
